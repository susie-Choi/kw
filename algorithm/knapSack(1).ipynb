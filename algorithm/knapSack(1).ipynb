{
 "cells": [
  {
   "cell_type": "code",
   "execution_count": 1,
   "metadata": {},
   "outputs": [],
   "source": [
    "import random\n",
    "\n",
    "#아이템의 달러 값을 1부터 2n까지 설정한다.\n",
    "#randrange의 함수는 (a,b)일 경우 a부터 b-1까지이므로, +1을 더하여 2n을 맞춘다.\n",
    "def random_value(n):\n",
    "    global val\n",
    "    val = []\n",
    "    for i in range(5):\n",
    "        val.append(random.randrange(1,n*2+1))\n",
    "        \n",
    "#가방에 담을 물건들의 합산 값어치 value(i)\n",
    "def value_knapSack(W, wt, val, n):\n",
    "    #값을 저장할 K라는 표를 생성한다. K는 knapsack을 의미하기도 한다.\n",
    "    K = [[0 for x in range(W + 1)] for x in range(n + 1)] \n",
    "    \n",
    "    #i행, j열에서 반복한다.\n",
    "    for i in range(n + 1): \n",
    "        for j in range(W + 1):\n",
    "            \n",
    "            #i가 0이거나 j가 0이면 다 0값 저장\n",
    "            if i == 0 or j == 0: \n",
    "                K[i][j] = 0\n",
    "            elif wt[i-1] <=j:\n",
    "                #물건을 추가할 수 있는 경우. max로 값을 넣는다.\n",
    "                #i-1 위치는 현재를 의미하는데, 그 이유는 지금까지 담은 것들은 i-1까지 위치하며, i 위치는 아직 비워져 있는 상태이기 때문이다.\n",
    "                #K[i][j] = max(현재 물건 가치 + knapsack[이전물건][현재 가방 무게 - 현재 물건 무게], K[이전물건][현재 가방 무게])\n",
    "                K[i][j] = max(val[i-1] + K[i-1][j-wt[i-1]], K[i-1][j]) \n",
    "            else: \n",
    "                #weight값보다 j가 작으면 그 전 값을 그대로 들고온다. 물건을 추가하지 않는 경우\n",
    "                K[i][j] = K[i-1][j] \n",
    "  \n",
    "    return K[n][W] \n",
    "\n",
    "#가방에 담을 물건들의 순서 번호(이자 무게 값)\n",
    "def print_item_knapSack(W, wt, val, n): \n",
    "    K = [[0 for w in range(W + 1)] for i in range(n + 1)] \n",
    "\n",
    "    for i in range(n + 1):\n",
    "        for j in range(W + 1):\n",
    "            if i == 0 or j == 0:\n",
    "                K[i][j] = 0\n",
    "            elif wt[i - 1] <= j:\n",
    "                K[i][j] = max(val[i - 1] + K[i - 1][j - wt[i - 1]], K[i - 1][j]) \n",
    "            else:\n",
    "                K[i][j] = K[i - 1][j] \n",
    "\n",
    "    #여기까지 코드는 위의 value_kanpScak 동일했다. 따라서 주석 생략\n",
    "    #총 달러값을 저장하여 각 아이템의 달러값 및 무게와 비교하면서 요소를 줄인다.\n",
    "    #요소를 줄이면서 총 달러값도 줄여지므로 0으로 될 경우 멈추게 된다.\n",
    "    res = K[n][W]\n",
    "    w = W \n",
    "\n",
    "    for i in range(n, 0, -1):\n",
    "        if res <= 0:\n",
    "            break\n",
    "        if res == K[i - 1][w]:\n",
    "            continue\n",
    "        else:\n",
    "            print('아이템의 순서:',end='')\n",
    "            print(wt[i - 1])\n",
    "            res = res - val[i - 1]\n",
    "            w = w - wt[i - 1] "
   ]
  },
  {
   "cell_type": "code",
   "execution_count": 2,
   "metadata": {},
   "outputs": [
    {
     "name": "stdout",
     "output_type": "stream",
     "text": [
      "[9, 6, 4, 2, 6]\n"
     ]
    }
   ],
   "source": [
    "#weight (wt)\n",
    "wt = [1, 2, 3, 4, 5] \n",
    "#도둑이 들 수 있는 무게(W)\n",
    "W = 12\n",
    "#물건의 값어치\n",
    "random_value(5)\n",
    "#물건의 개수\n",
    "n = len(val)\n",
    "\n",
    "print(val)"
   ]
  },
  {
   "cell_type": "code",
   "execution_count": 3,
   "metadata": {},
   "outputs": [
    {
     "data": {
      "text/plain": [
       "25"
      ]
     },
     "execution_count": 3,
     "metadata": {},
     "output_type": "execute_result"
    }
   ],
   "source": [
    "value_knapSack(W, wt, val, n)"
   ]
  },
  {
   "cell_type": "code",
   "execution_count": 4,
   "metadata": {},
   "outputs": [
    {
     "name": "stdout",
     "output_type": "stream",
     "text": [
      "아이템의 순서:5\n",
      "아이템의 순서:3\n",
      "아이템의 순서:2\n",
      "아이템의 순서:1\n"
     ]
    }
   ],
   "source": [
    "print_item_knapSack(W, wt, val, n)"
   ]
  },
  {
   "cell_type": "code",
   "execution_count": null,
   "metadata": {},
   "outputs": [],
   "source": []
  }
 ],
 "metadata": {
  "kernelspec": {
   "display_name": "Python 3",
   "language": "python",
   "name": "python3"
  },
  "language_info": {
   "codemirror_mode": {
    "name": "ipython",
    "version": 3
   },
   "file_extension": ".py",
   "mimetype": "text/x-python",
   "name": "python",
   "nbconvert_exporter": "python",
   "pygments_lexer": "ipython3",
   "version": "3.8.3"
  }
 },
 "nbformat": 4,
 "nbformat_minor": 4
}
