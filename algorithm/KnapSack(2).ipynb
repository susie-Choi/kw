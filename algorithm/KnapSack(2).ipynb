{
 "cells": [
  {
   "cell_type": "code",
   "execution_count": 1,
   "metadata": {},
   "outputs": [],
   "source": [
    "import random\n",
    "import time\n",
    "import matplotlib.pyplot as plt\n",
    "\n",
    "#50부터 인자로 받은 num사이로 물건의 개수를 랜덤하게 설정한다. 즉\n",
    "#n개의 물건을 설정할 때 n개는 몇인지를 random하게 뽑는다.\n",
    "#val는 n개의 물건들의 각 달러값을 넣는 리스트이다.\n",
    "#wt는 n개의 물건들의 각 무게값을 넣는 리스트이다.\n",
    "def random_num(num):\n",
    "    global n\n",
    "    n = random.randrange(50,num)\n",
    "    print(\"아이템의 개수는 \", n,\"개 입니다.\")\n",
    "\n",
    "    global val\n",
    "    global wt\n",
    "    global W\n",
    "    val = []\n",
    "    wt = []\n",
    "    W = int((n**2) / 2)\n",
    "    for i in range(n):\n",
    "        val.append(random.randrange(1,n*2+1))\n",
    "    for j in range(1,n+1):\n",
    "        wt.append(j)    \n",
    "\n",
    "#plot를 그리는 함수를 지정하였다.\n",
    "def plotting(x, y):\n",
    "    x.sort()\n",
    "    y.sort()\n",
    "    plt.plot(x,y,'bo-.')\n",
    "    plt.xlabel('n')\n",
    "    plt.ylabel('running time')\n",
    "    plt.title('Average actual running time with various values of n')\n",
    "    plt.show()\n",
    "\n",
    "#value_kanpSack과 print_item_knapSack은 2017204081_최수지(1)의 코드와 동일하므로 주석을 생략한다.\n",
    "def value_knapSack(W, wt, val, n): \n",
    "    K = [[0 for x in range(W + 1)] for x in range(n + 1)] \n",
    "  \n",
    "    for i in range(n + 1): \n",
    "        for j in range(W + 1): \n",
    "            if i == 0 or j == 0: \n",
    "                K[i][j] = 0\n",
    "            elif wt[i-1] <= j: \n",
    "                K[i][j] = max(val[i-1] + K[i-1][j-wt[i-1]], K[i-1][j]) \n",
    "            else: \n",
    "                K[i][j] = K[i-1][j] \n",
    "  \n",
    "    return K[n][W] \n",
    "\n",
    "def print_item_knapSack(W, wt, val, n): \n",
    "    K = [[0 for w in range(W + 1)] for i in range(n + 1)] \n",
    "\n",
    "    for i in range(n + 1):\n",
    "        for j in range(W + 1):\n",
    "            if i == 0 or j == 0:\n",
    "                K[i][j] = 0\n",
    "            elif wt[i - 1] <= j:\n",
    "                K[i][j] = max(val[i - 1] + K[i - 1][j - wt[i - 1]], K[i - 1][j]) \n",
    "            else:\n",
    "                K[i][j] = K[i - 1][j] \n",
    "\n",
    "    res = K[n][W] \n",
    "    w = W \n",
    "\n",
    "    for i in range(n, 0, -1):\n",
    "        if res <= 0:\n",
    "            break\n",
    "        if res == K[i - 1][w]:\n",
    "            continue\n",
    "        else:\n",
    "            print(wt[i - 1],',',end='')\n",
    "            res = res - val[i - 1]\n",
    "            w = w - wt[i - 1] "
   ]
  },
  {
   "cell_type": "code",
   "execution_count": 2,
   "metadata": {},
   "outputs": [],
   "source": [
    "#runningtime을 측정하는 함수이다. \n",
    "#runtime에서 random_num(arg), value_knapSack(arg1,arg2,arg3,arg4), print_item_knapSack(arg1,arg2,arg3,arg4)모두 실행되도록 하였다.\n",
    "def runtime(num):\n",
    "    global start\n",
    "    global end\n",
    "    \n",
    "    start = time.time()\n",
    "    \n",
    "    #런타임코드 삽입\n",
    "    random_num(num)\n",
    "    value_knapSack(W, wt, val, n)\n",
    "    print_item_knapSack(W, wt, val, n)\n",
    "    \n",
    "    end = time.time()-start\n",
    "    \n",
    "    print()\n",
    "    print(\"Running time : \", end)\n",
    "\n",
    "#main함수이다. 이것이 실행되면 내부의 runtime도 같이 실행되도록 설계하였다.\n",
    "#runtime함수와 구분해둔 것은 n값의 low/medium/high 범위를 지정할 때, 함수의 개수가 많은 편이므로\n",
    "#찾아 바꾸기 쉽도록 설계하였다.\n",
    "def main_go(n):\n",
    "    runtime(n)\n",
    "\n",
    "    if n >= 50 and n <= 100:\n",
    "        X_average_low.append(n)\n",
    "        Y_average_low.append(end)\n",
    "    elif n <= 200:\n",
    "        X_average_medium.append(n)\n",
    "        Y_average_medium.append(end)\n",
    "    else:\n",
    "        X_average_high.append(n)\n",
    "        Y_average_high.append(end)\n",
    "        \n",
    "#n이 low, medium, high일 때를 나눠서 n값과 running time을 평균내었다.\n",
    "def average_runtime():\n",
    "    global X_low, X_medium, X_high, Y_low, Y_medium, Y_high\n",
    "    X_low, X_medium, X_high, Y_low, Y_medium, Y_high = 0, 0, 0, 0, 0, 0\n",
    "    \n",
    "    for ix in range(len(X_average_low)):\n",
    "        X_low += X_average_low[ix]\n",
    "    for jx in range(len(X_average_medium)):\n",
    "        X_medium += X_average_medium[jx]\n",
    "    for kx in range(len(X_average_high)):\n",
    "        X_high += X_average_high[kx]\n",
    "        \n",
    "    for iy in range(len(Y_average_low)):\n",
    "        Y_low += Y_average_low[iy]\n",
    "    for jy in range(len(Y_average_medium)):\n",
    "        Y_medium += Y_average_medium[jy]\n",
    "    for ky in range(len(Y_average_high)):\n",
    "        Y_high += Y_average_high[ky]\n",
    "    \n",
    "\n",
    "    X_low = X_low / len(X_average_low)\n",
    "    X_medium = X_medium / len(X_average_medium)\n",
    "    X_high = X_high / len(X_average_high)\n",
    "    Y_low = Y_low / len(Y_average_low)\n",
    "    Y_medium = Y_medium / len(Y_average_medium)\n",
    "    Y_high = Y_high / len(Y_average_high)\n",
    "    \n",
    "    X_list.append(X_low)\n",
    "    X_list.append(X_medium)\n",
    "    X_list.append(X_high)\n",
    "    Y_list.append(Y_low)\n",
    "    Y_list.append(Y_medium)\n",
    "    Y_list.append(Y_high)"
   ]
  },
  {
   "cell_type": "code",
   "execution_count": 3,
   "metadata": {},
   "outputs": [],
   "source": [
    "#필요한 리스트들을 한꺼번에 선언하였다.\n",
    "X_list = []\n",
    "Y_list = []\n",
    "X_average_low = []\n",
    "X_average_medium = []\n",
    "X_average_high = []\n",
    "Y_average_low = []\n",
    "Y_average_medium = []\n",
    "Y_average_high = []"
   ]
  },
  {
   "cell_type": "code",
   "execution_count": 4,
   "metadata": {},
   "outputs": [
    {
     "name": "stdout",
     "output_type": "stream",
     "text": [
      "아이템의 개수는  77 개 입니다.\n",
      "77 ,76 ,75 ,74 ,73 ,72 ,71 ,70 ,69 ,68 ,67 ,66 ,65 ,64 ,63 ,62 ,61 ,60 ,59 ,58 ,57 ,56 ,55 ,54 ,53 ,52 ,51 ,50 ,49 ,48 ,47 ,46 ,45 ,44 ,43 ,42 ,41 ,40 ,39 ,38 ,37 ,36 ,35 ,33 ,32 ,31 ,30 ,29 ,28 ,27 ,25 ,24 ,23 ,22 ,21 ,20 ,19 ,18 ,17 ,16 ,15 ,14 ,13 ,12 ,11 ,10 ,9 ,8 ,7 ,6 ,5 ,4 ,3 ,2 ,1 ,\n",
      "Running time :  0.4168820381164551\n"
     ]
    }
   ],
   "source": [
    "#총 10번의 main함수를 실행하였다.\n",
    "#main함수를 각기 실행하는 것은 각 인자에 대한 결과를 구분 할 수 있도록 하였다.\n",
    "main_go(80)"
   ]
  },
  {
   "cell_type": "code",
   "execution_count": 5,
   "metadata": {},
   "outputs": [
    {
     "name": "stdout",
     "output_type": "stream",
     "text": [
      "아이템의 개수는  63 개 입니다.\n",
      "63 ,62 ,61 ,60 ,59 ,58 ,57 ,56 ,55 ,54 ,53 ,52 ,51 ,50 ,49 ,48 ,47 ,46 ,45 ,44 ,43 ,42 ,40 ,39 ,38 ,37 ,36 ,35 ,34 ,33 ,32 ,31 ,30 ,29 ,28 ,27 ,26 ,25 ,24 ,23 ,22 ,21 ,20 ,19 ,18 ,17 ,16 ,15 ,14 ,13 ,12 ,11 ,10 ,9 ,8 ,7 ,6 ,5 ,4 ,3 ,2 ,1 ,\n",
      "Running time :  0.2682805061340332\n"
     ]
    }
   ],
   "source": [
    "main_go(150)"
   ]
  },
  {
   "cell_type": "code",
   "execution_count": 6,
   "metadata": {},
   "outputs": [
    {
     "name": "stdout",
     "output_type": "stream",
     "text": [
      "아이템의 개수는  98 개 입니다.\n",
      "98 ,97 ,96 ,95 ,94 ,93 ,92 ,91 ,90 ,89 ,88 ,87 ,86 ,85 ,84 ,83 ,82 ,81 ,80 ,79 ,78 ,77 ,75 ,74 ,73 ,72 ,71 ,70 ,69 ,68 ,67 ,66 ,65 ,64 ,63 ,62 ,61 ,60 ,59 ,58 ,57 ,56 ,55 ,54 ,53 ,52 ,51 ,50 ,49 ,48 ,47 ,46 ,45 ,44 ,43 ,42 ,41 ,40 ,39 ,38 ,37 ,36 ,35 ,34 ,33 ,32 ,31 ,30 ,29 ,28 ,27 ,26 ,25 ,24 ,23 ,22 ,21 ,20 ,19 ,18 ,17 ,16 ,15 ,14 ,13 ,12 ,11 ,10 ,9 ,8 ,7 ,6 ,5 ,4 ,3 ,2 ,1 ,\n",
      "Running time :  0.8267879486083984\n"
     ]
    }
   ],
   "source": [
    "main_go(200)"
   ]
  },
  {
   "cell_type": "code",
   "execution_count": 7,
   "metadata": {},
   "outputs": [
    {
     "name": "stdout",
     "output_type": "stream",
     "text": [
      "아이템의 개수는  96 개 입니다.\n",
      "96 ,95 ,94 ,93 ,92 ,91 ,90 ,89 ,88 ,87 ,86 ,85 ,84 ,83 ,82 ,81 ,80 ,79 ,78 ,77 ,76 ,75 ,74 ,73 ,72 ,71 ,70 ,69 ,68 ,67 ,65 ,64 ,63 ,62 ,61 ,60 ,59 ,58 ,57 ,56 ,55 ,54 ,53 ,52 ,51 ,50 ,49 ,48 ,47 ,46 ,45 ,44 ,43 ,42 ,41 ,40 ,39 ,38 ,37 ,36 ,35 ,34 ,33 ,32 ,31 ,30 ,29 ,28 ,27 ,26 ,25 ,24 ,23 ,22 ,21 ,20 ,19 ,18 ,17 ,16 ,15 ,14 ,13 ,12 ,11 ,10 ,9 ,8 ,7 ,6 ,5 ,4 ,3 ,2 ,1 ,\n",
      "Running time :  0.7215657234191895\n"
     ]
    }
   ],
   "source": [
    "main_go(220)"
   ]
  },
  {
   "cell_type": "code",
   "execution_count": 8,
   "metadata": {},
   "outputs": [
    {
     "name": "stdout",
     "output_type": "stream",
     "text": [
      "아이템의 개수는  225 개 입니다.\n",
      "225 ,224 ,223 ,222 ,221 ,220 ,219 ,218 ,217 ,216 ,215 ,214 ,213 ,212 ,211 ,210 ,209 ,208 ,207 ,206 ,205 ,204 ,203 ,202 ,201 ,200 ,199 ,198 ,197 ,196 ,195 ,194 ,193 ,192 ,191 ,190 ,189 ,188 ,187 ,186 ,185 ,184 ,183 ,182 ,181 ,180 ,179 ,178 ,177 ,176 ,175 ,174 ,173 ,172 ,171 ,170 ,169 ,168 ,167 ,166 ,165 ,164 ,163 ,162 ,161 ,160 ,159 ,158 ,157 ,156 ,155 ,154 ,153 ,152 ,151 ,150 ,149 ,148 ,147 ,146 ,145 ,144 ,143 ,142 ,141 ,140 ,139 ,138 ,137 ,136 ,135 ,134 ,133 ,132 ,131 ,130 ,129 ,128 ,127 ,126 ,124 ,123 ,122 ,121 ,120 ,119 ,118 ,117 ,116 ,115 ,114 ,113 ,112 ,111 ,110 ,109 ,108 ,107 ,106 ,105 ,104 ,103 ,102 ,101 ,100 ,99 ,98 ,97 ,96 ,95 ,94 ,93 ,92 ,91 ,90 ,89 ,88 ,87 ,86 ,85 ,84 ,83 ,82 ,81 ,80 ,79 ,78 ,77 ,76 ,75 ,74 ,73 ,72 ,71 ,70 ,69 ,68 ,67 ,66 ,65 ,64 ,63 ,62 ,61 ,60 ,59 ,58 ,57 ,56 ,55 ,54 ,53 ,52 ,51 ,50 ,49 ,48 ,47 ,46 ,45 ,44 ,43 ,42 ,41 ,40 ,39 ,38 ,37 ,36 ,35 ,34 ,33 ,32 ,31 ,30 ,29 ,28 ,27 ,26 ,25 ,24 ,23 ,22 ,21 ,20 ,19 ,18 ,17 ,16 ,15 ,14 ,13 ,12 ,11 ,10 ,9 ,8 ,7 ,6 ,5 ,4 ,3 ,2 ,1 ,\n",
      "Running time :  8.456218004226685\n"
     ]
    }
   ],
   "source": [
    "main_go(250)"
   ]
  },
  {
   "cell_type": "code",
   "execution_count": 9,
   "metadata": {},
   "outputs": [
    {
     "name": "stdout",
     "output_type": "stream",
     "text": [
      "아이템의 개수는  61 개 입니다.\n",
      "61 ,60 ,59 ,58 ,57 ,56 ,54 ,53 ,52 ,51 ,50 ,49 ,48 ,47 ,46 ,45 ,44 ,43 ,42 ,41 ,40 ,39 ,38 ,37 ,36 ,35 ,34 ,33 ,32 ,31 ,30 ,29 ,28 ,27 ,26 ,25 ,24 ,23 ,22 ,21 ,20 ,19 ,18 ,17 ,16 ,15 ,14 ,13 ,12 ,11 ,10 ,9 ,8 ,7 ,6 ,5 ,4 ,3 ,2 ,1 ,\n",
      "Running time :  0.20943951606750488\n"
     ]
    }
   ],
   "source": [
    "main_go(280)"
   ]
  },
  {
   "cell_type": "code",
   "execution_count": 10,
   "metadata": {},
   "outputs": [
    {
     "name": "stdout",
     "output_type": "stream",
     "text": [
      "아이템의 개수는  172 개 입니다.\n",
      "172 ,171 ,170 ,169 ,168 ,167 ,166 ,165 ,164 ,163 ,162 ,161 ,160 ,159 ,158 ,157 ,156 ,155 ,154 ,153 ,152 ,151 ,150 ,149 ,148 ,147 ,146 ,145 ,144 ,143 ,142 ,141 ,140 ,139 ,138 ,137 ,136 ,135 ,134 ,133 ,132 ,131 ,130 ,129 ,127 ,126 ,125 ,124 ,123 ,122 ,121 ,120 ,119 ,118 ,117 ,116 ,115 ,114 ,113 ,112 ,111 ,110 ,109 ,108 ,107 ,106 ,105 ,104 ,103 ,102 ,101 ,100 ,99 ,98 ,97 ,96 ,95 ,94 ,93 ,92 ,91 ,90 ,89 ,88 ,87 ,86 ,85 ,84 ,83 ,82 ,81 ,80 ,79 ,78 ,77 ,76 ,75 ,74 ,73 ,72 ,71 ,70 ,69 ,68 ,67 ,66 ,65 ,64 ,63 ,62 ,61 ,60 ,59 ,58 ,57 ,56 ,55 ,54 ,53 ,52 ,51 ,50 ,49 ,48 ,47 ,46 ,45 ,44 ,43 ,42 ,41 ,40 ,39 ,38 ,37 ,36 ,35 ,34 ,33 ,32 ,31 ,30 ,29 ,28 ,27 ,26 ,25 ,24 ,23 ,22 ,21 ,20 ,19 ,18 ,17 ,16 ,15 ,14 ,13 ,12 ,11 ,10 ,9 ,8 ,7 ,6 ,5 ,4 ,3 ,2 ,1 ,\n",
      "Running time :  3.6652321815490723\n"
     ]
    }
   ],
   "source": [
    "main_go(310)"
   ]
  },
  {
   "cell_type": "code",
   "execution_count": 11,
   "metadata": {},
   "outputs": [
    {
     "name": "stdout",
     "output_type": "stream",
     "text": [
      "아이템의 개수는  72 개 입니다.\n",
      "71 ,70 ,69 ,68 ,67 ,66 ,65 ,64 ,63 ,62 ,61 ,60 ,59 ,58 ,57 ,56 ,55 ,54 ,53 ,52 ,51 ,50 ,49 ,48 ,47 ,46 ,45 ,44 ,43 ,42 ,41 ,40 ,39 ,38 ,37 ,36 ,35 ,34 ,33 ,32 ,31 ,30 ,29 ,28 ,27 ,26 ,25 ,24 ,23 ,22 ,21 ,20 ,19 ,18 ,17 ,16 ,15 ,14 ,13 ,12 ,11 ,10 ,9 ,8 ,7 ,6 ,5 ,4 ,3 ,2 ,1 ,\n",
      "Running time :  0.28525233268737793\n"
     ]
    }
   ],
   "source": [
    "main_go(340)"
   ]
  },
  {
   "cell_type": "code",
   "execution_count": 12,
   "metadata": {},
   "outputs": [
    {
     "name": "stdout",
     "output_type": "stream",
     "text": [
      "아이템의 개수는  194 개 입니다.\n",
      "194 ,193 ,192 ,191 ,190 ,189 ,188 ,187 ,186 ,185 ,184 ,183 ,182 ,181 ,180 ,179 ,178 ,177 ,176 ,175 ,174 ,173 ,172 ,171 ,170 ,169 ,168 ,167 ,166 ,165 ,164 ,163 ,162 ,161 ,160 ,159 ,158 ,157 ,156 ,155 ,154 ,153 ,152 ,151 ,150 ,149 ,148 ,147 ,146 ,145 ,144 ,143 ,142 ,141 ,140 ,139 ,138 ,137 ,136 ,135 ,134 ,133 ,132 ,131 ,130 ,129 ,128 ,126 ,125 ,124 ,123 ,122 ,121 ,120 ,119 ,118 ,117 ,116 ,115 ,114 ,113 ,112 ,111 ,110 ,109 ,108 ,107 ,106 ,105 ,104 ,103 ,102 ,101 ,100 ,99 ,98 ,97 ,96 ,95 ,94 ,93 ,92 ,91 ,90 ,89 ,88 ,87 ,86 ,85 ,84 ,83 ,82 ,81 ,80 ,79 ,78 ,77 ,76 ,75 ,74 ,73 ,72 ,71 ,70 ,69 ,68 ,67 ,66 ,65 ,64 ,63 ,62 ,61 ,60 ,59 ,58 ,57 ,56 ,55 ,54 ,53 ,52 ,51 ,50 ,49 ,48 ,47 ,46 ,45 ,44 ,43 ,42 ,41 ,40 ,39 ,38 ,37 ,36 ,35 ,34 ,33 ,32 ,31 ,30 ,29 ,28 ,27 ,26 ,25 ,24 ,23 ,22 ,21 ,20 ,19 ,18 ,17 ,16 ,15 ,14 ,13 ,12 ,11 ,10 ,9 ,8 ,7 ,6 ,5 ,4 ,3 ,2 ,1 ,\n",
      "Running time :  5.26991605758667\n"
     ]
    }
   ],
   "source": [
    "main_go(370)"
   ]
  },
  {
   "cell_type": "code",
   "execution_count": 13,
   "metadata": {},
   "outputs": [
    {
     "name": "stdout",
     "output_type": "stream",
     "text": [
      "아이템의 개수는  210 개 입니다.\n",
      "210 ,209 ,208 ,207 ,206 ,205 ,204 ,203 ,202 ,201 ,200 ,199 ,198 ,197 ,196 ,195 ,194 ,193 ,192 ,191 ,190 ,189 ,188 ,187 ,185 ,184 ,183 ,182 ,181 ,180 ,179 ,178 ,177 ,176 ,175 ,174 ,173 ,172 ,171 ,170 ,169 ,168 ,167 ,166 ,165 ,164 ,163 ,162 ,161 ,160 ,159 ,158 ,157 ,156 ,155 ,154 ,153 ,152 ,151 ,150 ,149 ,148 ,147 ,146 ,145 ,144 ,143 ,142 ,141 ,140 ,139 ,138 ,137 ,136 ,135 ,134 ,133 ,132 ,131 ,130 ,129 ,128 ,127 ,126 ,125 ,124 ,123 ,122 ,121 ,120 ,119 ,118 ,117 ,116 ,115 ,114 ,113 ,112 ,111 ,110 ,109 ,108 ,107 ,106 ,105 ,104 ,103 ,102 ,101 ,100 ,99 ,98 ,97 ,96 ,95 ,94 ,93 ,92 ,91 ,90 ,89 ,88 ,87 ,86 ,85 ,84 ,83 ,82 ,81 ,80 ,79 ,78 ,77 ,76 ,75 ,74 ,73 ,72 ,71 ,70 ,69 ,68 ,67 ,66 ,65 ,64 ,63 ,62 ,61 ,60 ,59 ,58 ,57 ,56 ,55 ,54 ,53 ,52 ,51 ,50 ,49 ,48 ,47 ,46 ,45 ,44 ,43 ,42 ,41 ,40 ,39 ,38 ,37 ,36 ,35 ,34 ,33 ,32 ,31 ,30 ,29 ,28 ,27 ,26 ,25 ,24 ,23 ,22 ,21 ,20 ,19 ,18 ,17 ,16 ,15 ,14 ,13 ,12 ,11 ,10 ,9 ,8 ,7 ,6 ,5 ,4 ,3 ,2 ,1 ,\n",
      "Running time :  6.745051383972168\n"
     ]
    }
   ],
   "source": [
    "main_go(400)"
   ]
  },
  {
   "cell_type": "code",
   "execution_count": 14,
   "metadata": {},
   "outputs": [],
   "source": [
    "average_runtime()"
   ]
  },
  {
   "cell_type": "code",
   "execution_count": 15,
   "metadata": {},
   "outputs": [
    {
     "data": {
      "image/png": "[encoded data removed]",
      "text/plain": [
       "<Figure size 432x288 with 1 Axes>"
      ]
     },
     "metadata": {
      "needs_background": "light"
     },
     "output_type": "display_data"
    }
   ],
   "source": [
    "plotting(X_list, Y_list)"
   ]
  },
  {
   "cell_type": "code",
   "execution_count": 16,
   "metadata": {},
   "outputs": [
    {
     "data": {
      "text/plain": [
       "[80.0, 175.0, 310.0]"
      ]
     },
     "execution_count": 16,
     "metadata": {},
     "output_type": "execute_result"
    }
   ],
   "source": [
    "X_list"
   ]
  },
  {
   "cell_type": "code",
   "execution_count": 17,
   "metadata": {},
   "outputs": [
    {
     "data": {
      "text/plain": [
       "[0.4168820381164551, 0.5475342273712158, 3.6218107427869524]"
      ]
     },
     "execution_count": 17,
     "metadata": {},
     "output_type": "execute_result"
    }
   ],
   "source": [
    "Y_list"
   ]
  },
  {
   "cell_type": "code",
   "execution_count": null,
   "metadata": {},
   "outputs": [],
   "source": []
  }
 ],
 "metadata": {
  "kernelspec": {
   "display_name": "Python 3",
   "language": "python",
   "name": "python3"
  },
  "language_info": {
   "codemirror_mode": {
    "name": "ipython",
    "version": 3
   },
   "file_extension": ".py",
   "mimetype": "text/x-python",
   "name": "python",
   "nbconvert_exporter": "python",
   "pygments_lexer": "ipython3",
   "version": "3.8.3"
  }
 },
 "nbformat": 4,
 "nbformat_minor": 4
}
