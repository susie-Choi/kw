{
 "cells": [
  {
   "cell_type": "code",
   "execution_count": 126,
   "metadata": {},
   "outputs": [],
   "source": [
    "import sys\n",
    "import random\n",
    "import time\n",
    "import matplotlib.pyplot as plt\n",
    "\n",
    "#재귀한도를 10000으로 늘린다.\n",
    "sys.setrecursionlimit(10000)\n",
    "\n",
    "#A-Z 문자열에서 랜덤으로 생성된 rand_elem의 개수로 구성된 문자열 리스트를 만든다.\n",
    "def sampling_list(num):\n",
    "    #영문자 소문자로 지정한다.\n",
    "    Eng_string = 'abcdefghijklmnopqrstuvwxyz'\n",
    "    Eng_list = list(Eng_string)\n",
    "    sample_list = []\n",
    "    for i in range(num):\n",
    "        sample_list.append(random.choice(Eng_list))\n",
    "    return sample_list\n",
    "\n",
    "#X와 Y의 length는 둘 다 n이다.\n",
    "#다만 코드 내부에서 X의 길이와 Y의 길이를 다른 변수로 지정해야 했기 때문에 X의 경우 length을 m으로 지정하였다.\n",
    "#m==n으로, main_go 함수에서 둘 다 동일한 rand_elem값을 할당받는 것을 알 수 있다.\n",
    "def LCS_Length(X, Y, m, n, b):\n",
    "\n",
    "    if m == 0 or n == 0:\n",
    "        return 0\n",
    "\n",
    "    #값을 저장할 행렬 b에서 값을 찾기 위한 key이다.\n",
    "    key = (m, n)\n",
    "\n",
    "    #Top-down, memoized 방식 사용\n",
    "    if key not in b:\n",
    "        if X[m - 1] == Y[n - 1]:\n",
    "            #재귀적으로 접근\n",
    "            b[key] = LCS_Length(X, Y, m - 1, n - 1, b) + 1\n",
    "\n",
    "        else:\n",
    "            b[key] = max(LCS_Length(X, Y, m, n - 1, b),\n",
    "                              LCS_Length(X, Y, m - 1, n, b))\n",
    "\n",
    "    return b[key]\n",
    "\n",
    "#표를 그리는 함수를 지정하였다.\n",
    "def plotting(x, y):\n",
    "    x.sort()\n",
    "    y.sort()\n",
    "    plt.plot(x,y,'bo-.')\n",
    "    plt.xlabel('n')\n",
    "    plt.ylabel('running time')\n",
    "    plt.title('Average actual running time with various values of n')\n",
    "    plt.show()\n",
    "\n",
    "#average_runtime을 구하기 위하여 세 가지 단계를 지정하였다.\n",
    "#n값이 10부터 99사이일 때 low로, 100부터 499까지 medium으로, 500부터 1000까지 high로 지정하였다.\n",
    "def runtime():\n",
    "    main_go()\n",
    "\n",
    "    if rand_elem >= 10 and rand_elem < 100:\n",
    "        X_average_low.append(rand_elem)\n",
    "        Y_average_low.append(end)\n",
    "    elif rand_elem >= 100 and rand_elem < 500:\n",
    "        X_average_medium.append(rand_elem)\n",
    "        Y_average_medium.append(end)\n",
    "    else:\n",
    "        X_average_high.append(rand_elem)\n",
    "        Y_average_high.append(end)\n",
    "\n",
    "#n이 low, medium, high일 때를 나눠서 n값과 running time을 평균내었다.\n",
    "def average_runtime():\n",
    "    global X_low, X_medium, X_high, Y_low, Y_medium, Y_high\n",
    "    X_low, X_medium, X_high, Y_low, Y_medium, Y_high = 0, 0, 0, 0, 0, 0\n",
    "    \n",
    "    for ix in range(len(X_average_low)):\n",
    "        X_low += X_average_low[ix]\n",
    "    for jx in range(len(X_average_medium)):\n",
    "        X_medium += X_average_medium[jx]\n",
    "    for kx in range(len(X_average_high)):\n",
    "        X_high += X_average_high[kx]\n",
    "        \n",
    "    for iy in range(len(Y_average_low)):\n",
    "        Y_low += Y_average_low[iy]\n",
    "    for jy in range(len(Y_average_medium)):\n",
    "        Y_medium += Y_average_medium[jy]\n",
    "    for ky in range(len(Y_average_high)):\n",
    "        Y_high += Y_average_high[ky]\n",
    "    \n",
    "    try:\n",
    "        X_low = X_low / len(X_average_low)\n",
    "        X_medium = X_medium / len(X_average_medium)\n",
    "        X_high = X_high / len(X_average_high)\n",
    "        Y_low = Y_low / len(Y_average_low)\n",
    "        Y_medium = Y_medium / len(Y_average_medium)\n",
    "        Y_high = Y_high / len(Y_average_high)\n",
    "    \n",
    "    #요소가 부족하여 low, medium, high중에 값이 하나도 할당되지 않은 경우를 대비하였다.\n",
    "    except ZeroDivisionError:\n",
    "        pass\n",
    "    finally:\n",
    "        X_list.append(X_low)\n",
    "        X_list.append(X_medium)\n",
    "        X_list.append(X_high)\n",
    "        Y_list.append(Y_low)\n",
    "        Y_list.append(Y_medium)\n",
    "        Y_list.append(Y_high)"
   ]
  },
  {
   "cell_type": "code",
   "execution_count": 142,
   "metadata": {},
   "outputs": [],
   "source": [
    "# runtime()으로 실행하지만 runningtime 측정을 위한 것일 뿐,\n",
    "# main_go()가 메인 메서드이다.\n",
    "def main_go():\n",
    "    global rand_elem\n",
    "    global start\n",
    "    global end\n",
    "    \n",
    "    start = time.time()\n",
    "    #리스트의 요소 개수 10부터 1000까지 랜덤으로 설정\n",
    "    \n",
    "    rand_elem = random.randint(10,1000)\n",
    "    X = sampling_list(rand_elem)\n",
    "    Y = sampling_list(rand_elem)\n",
    "\n",
    "    b = {}\n",
    "\n",
    "    print(\"n : \", rand_elem)\n",
    "    print(\"X : \",X)\n",
    "    print(\"Y : \",Y)\n",
    "    print(\"LCS length : \", LCS_Length(X, Y, len(X), len(Y), b))\n",
    "    \n",
    "    end = time.time()-start\n",
    "\n",
    "    print(\"Running time : \", end)"
   ]
  },
  {
   "cell_type": "code",
   "execution_count": 143,
   "metadata": {},
   "outputs": [],
   "source": [
    "#필요한 리스트들을 한꺼번에 선언하였다.\n",
    "X_list = []\n",
    "Y_list = []\n",
    "X_average_low = []\n",
    "X_average_medium = []\n",
    "X_average_high = []\n",
    "Y_average_low = []\n",
    "Y_average_medium = []\n",
    "Y_average_high = []"
   ]
  },
  {
   "cell_type": "code",
   "execution_count": 144,
   "metadata": {},
   "outputs": [
    {
     "name": "stdout",
     "output_type": "stream",
     "text": [
      "n :  946\n",
      "X :  ['s', 'f', 'z', 'l', 'n', 'w', 'd', 'u', 'g', 'p', 't', 'q', 's', 'a', 'j', 'w', 'b', 'z', 'a', 'r', 'q', 'b', 'j', 'm', 'm', 'h', 'u', 'd', 'u', 's', 'k', 'w', 'n', 'b', 'f', 's', 'b', 't', 'c', 'i', 'd', 'g', 'y', 'm', 'o', 'l', 'z', 'l', 'f', 'q', 'a', 'z', 'g', 'g', 'v', 't', 'g', 'e', 'x', 'v', 'k', 'b', 'e', 'h', 'i', 'v', 't', 'z', 'h', 'j', 'c', 'j', 'z', 'l', 'x', 'k', 'x', 'z', 'm', 'j', 'x', 'b', 'd', 'a', 'k', 'b', 's', 'i', 'k', 'b', 't', 'i', 'y', 'o', 'a', 's', 'v', 'f', 'r', 'w', 'o', 's', 'z', 'p', 'd', 'a', 'p', 't', 'g', 'l', 'c', 'a', 'c', 'z', 'f', 'o', 'y', 't', 'o', 'n', 'f', 'u', 's', 'a', 'e', 'n', 'r', 'd', 'r', 'g', 'w', 'z', 't', 'i', 'g', 'q', 'a', 'c', 'z', 'p', 'u', 'q', 'u', 'q', 'y', 'w', 'w', 'e', 'b', 'z', 'd', 'w', 'g', 'b', 'k', 'x', 'z', 'l', 'p', 'r', 'o', 'q', 'n', 'v', 'a', 'w', 'x', 'j', 'h', 'c', 'v', 'b', 'n', 'u', 'z', 'o', 'q', 'f', 'j', 'y', 'k', 'p', 'm', 's', 'y', 't', 'r', 'v', 'z', 't', 'g', 'y', 'a', 'a', 'h', 'u', 'l', 'x', 'k', 'v', 'h', 'f', 'p', 'y', 'o', 'm', 'j', 'r', 'o', 'l', 'r', 'k', 'g', 'x', 'y', 'b', 'i', 'j', 's', 'w', 'k', 'h', 'p', 'q', 'u', 't', 'j', 'z', 't', 'g', 'e', 'f', 'j', 's', 'j', 'y', 'i', 'c', 'd', 'g', 'r', 'a', 't', 'b', 'e', 'x', 'm', 'h', 'd', 'q', 'd', 'u', 'k', 'c', 'p', 'v', 'b', 'q', 'u', 'r', 'z', 'j', 'v', 'm', 'h', 'l', 'c', 'w', 'm', 'p', 'k', 'x', 'd', 'a', 'o', 'x', 'a', 's', 'l', 'd', 't', 'x', 'x', 'h', 'h', 'd', 'n', 'f', 'r', 'g', 'v', 't', 'k', 't', 'y', 'e', 't', 'l', 'b', 'p', 'g', 'c', 'q', 'e', 'b', 'c', 'j', 'y', 'r', 'u', 'r', 'p', 'b', 'p', 'g', 'a', 'i', 'z', 'b', 'a', 'a', 'k', 'r', 'w', 'r', 'a', 'h', 'c', 'o', 'j', 'm', 'i', 'a', 't', 'c', 'g', 'z', 'h', 'u', 'm', 'n', 'd', 't', 'd', 'a', 't', 'b', 'o', 'i', 'j', 'h', 'y', 'k', 'b', 'w', 'b', 'j', 'p', 'x', 's', 'e', 'g', 'k', 'l', 'e', 'q', 'n', 'j', 'b', 'd', 'w', 'z', 'y', 'v', 'o', 'v', 'a', 'h', 't', 'l', 'r', 'p', 'n', 'c', 's', 'i', 'p', 'r', 'j', 'c', 'v', 'm', 'd', 'd', 'a', 'c', 'q', 't', 'j', 'l', 'a', 'r', 'i', 'c', 'f', 'v', 'y', 'i', 'd', 'g', 'i', 'b', 'v', 'i', 'm', 'b', 'r', 't', 'x', 'a', 'h', 'i', 'h', 'l', 'w', 'x', 'p', 'v', 'h', 'm', 'a', 'o', 'i', 'o', 'x', 'v', 'y', 'y', 'q', 'x', 'w', 't', 'f', 't', 'c', 't', 'f', 'u', 'p', 'c', 's', 'r', 's', 'v', 'j', 'u', 'p', 't', 'u', 'p', 'e', 'w', 'c', 'b', 'g', 'v', 'v', 'c', 'j', 'm', 'h', 'r', 'm', 'z', 'd', 'u', 'n', 'd', 's', 's', 'm', 'q', 'e', 'p', 'p', 'e', 's', 'r', 'x', 'm', 'q', 'd', 'u', 'm', 'f', 'z', 'k', 'm', 'x', 'b', 'a', 'w', 'l', 'v', 'f', 's', 'n', 'm', 't', 'b', 'w', 'x', 'j', 'q', 'c', 'o', 'p', 'p', 'b', 't', 'g', 'w', 'l', 'y', 's', 'x', 'z', 'n', 'a', 'e', 'w', 's', 'h', 'w', 'r', 't', 'b', 'n', 's', 'u', 't', 'u', 'f', 'f', 'h', 'r', 'f', 'l', 'i', 'x', 'h', 'i', 'n', 'l', 'c', 'k', 'd', 'a', 'n', 'x', 'h', 'd', 'p', 's', 'q', 'w', 'k', 'c', 'q', 'r', 'o', 'r', 'j', 'e', 'n', 'j', 'i', 'a', 'p', 'l', 'k', 'q', 'n', 's', 'h', 'e', 'r', 'x', 'g', 'q', 'f', 'z', 'q', 'x', 'r', 'i', 'j', 'k', 'r', 'j', 'j', 'n', 'f', 'd', 'p', 'y', 'k', 'g', 'k', 't', 'a', 'a', 't', 'r', 's', 'u', 'v', 'o', 'a', 'u', 'f', 'g', 'h', 'h', 'w', 'y', 'e', 'k', 'm', 'e', 'x', 'v', 'h', 'a', 't', 'l', 'y', 'd', 'a', 'w', 't', 'a', 's', 'v', 's', 's', 'a', 'a', 'n', 'm', 'p', 'j', 'c', 'f', 'g', 'y', 'u', 'y', 'v', 'v', 'r', 'q', 'r', 'h', 'z', 'v', 'z', 's', 'e', 's', 'a', 't', 'a', 'j', 'm', 'g', 'j', 'h', 'v', 'f', 'h', 'y', 'p', 't', 'k', 's', 'b', 's', 't', 'k', 'e', 't', 'g', 'i', 'q', 'm', 'g', 'q', 'r', 'o', 'j', 'm', 'y', 'o', 'u', 'k', 'x', 'l', 'k', 'r', 't', 'r', 'v', 'k', 'e', 'n', 'u', 'l', 'p', 'm', 'g', 'g', 'r', 'f', 'g', 'h', 'p', 'b', 'e', 'w', 'r', 'a', 'b', 'e', 't', 'e', 'o', 'f', 'b', 't', 'h', 'd', 'n', 'v', 'w', 'f', 'r', 'd', 'x', 'l', 'n', 'n', 'n', 'z', 'p', 's', 'y', 'z', 'y', 'g', 'a', 'b', 'o', 'u', 'u', 'b', 't', 'd', 'e', 'x', 'h', 'e', 'z', 'f', 'z', 'g', 'x', 'q', 'q', 'b', 'r', 'p', 'd', 'w', 'w', 'o', 'v', 'v', 'n', 'p', 'm', 'a', 'm', 'l', 'j', 'w', 'g', 'o', 'h', 'f', 'o', 'z', 'c', 'z', 'f', 'h', 'p', 'k', 'h', 'q', 'j', 'f', 'c', 'l', 'r', 'g', 'f', 'c', 'k', 'k', 's', 't', 'm', 'x', 'h', 'd', 'n', 'y', 'r', 'u', 'd', 'c', 'n', 'g', 't', 'a', 'h', 'i', 'z', 'p', 'f', 'v', 'e', 'w', 'a', 'i', 'j', 'e', 'x', 'b', 'a', 'g', 'c', 'h', 'l', 'r', 's', 'g', 'h', 'u', 'c', 'o', 'm', 't', 'n', 'r', 'o', 'q', 'c', 'z', 'r', 'd', 'w', 'm', 'u', 's', 'k', 't', 'e', 'k', 'u', 'i', 'y', 'u', 'l', 'w', 'z', 'z', 'c', 'p', 'w', 'y', 'w', 'a', 'i', 'b', 'x', 'h', 'i', 'x', 't', 's', 'o', 's', 'y', 'q', 'y', 'c', 'c', 'g', 'i', 'm', 'h', 'k', 'b', 'o', 'x', 'l', 'a', 'c', 'q', 'p', 'p', 's', 'j', 'l', 'e', 'h', 'n', 'p', 'u', 'c', 'q', 'x', 'v', 'c', 's', 'g', 'c', 'z', 'z', 'k', 'q', 'c', 'i', 'n']\n",
      "Y :  ['r', 'u', 'w', 'p', 'c', 'j', 'x', 'e', 'w', 'v', 'o', 'q', 'x', 'x', 'r', 'a', 'r', 's', 'a', 'e', 'j', 'n', 'f', 'r', 'f', 'i', 'x', 'o', 'p', 'h', 'l', 'u', 'b', 't', 'm', 'h', 'f', 'f', 'm', 'h', 'm', 'v', 'q', 'd', 'j', 'c', 'y', 'g', 'k', 'q', 'm', 't', 'z', 'x', 'n', 'h', 'l', 'f', 't', 'i', 't', 'x', 'g', 'f', 'e', 'c', 'm', 'h', 'x', 'l', 'e', 'v', 'z', 'v', 'r', 't', 'i', 't', 'x', 'h', 'r', 'b', 't', 'z', 'j', 'p', 'r', 't', 'h', 'v', 'i', 'i', 'v', 'd', 'j', 'y', 'g', 'z', 'i', 's', 'q', 'a', 'j', 'v', 't', 'l', 'k', 'k', 'u', 'q', 'l', 'z', 'm', 'i', 'o', 'r', 'o', 'o', 'y', 'u', 'm', 'i', 'v', 'd', 'f', 'm', 'y', 'm', 'j', 'w', 'a', 'd', 'f', 'n', 'n', 'r', 'm', 'z', 'k', 'i', 'v', 'o', 'p', 'x', 'd', 'z', 'w', 'l', 'r', 'i', 'f', 'h', 'k', 'h', 'v', 'v', 'i', 'a', 'l', 'x', 'p', 'h', 'r', 'z', 'e', 'z', 'h', 'w', 'd', 'r', 'x', 'k', 'e', 'o', 'e', 'r', 'b', 'p', 'b', 'h', 'y', 'd', 'v', 'y', 'p', 'o', 'v', 's', 'v', 'z', 'i', 'a', 'z', 'q', 'o', 'a', 'u', 'm', 'm', 'p', 'o', 'd', 'f', 'l', 'm', 'u', 'x', 'm', 'i', 'k', 'y', 'k', 'e', 'o', 'p', 'o', 'l', 'v', 'i', 'n', 'j', 'b', 'z', 'g', 'l', 'n', 'w', 'b', 'm', 'x', 'y', 'e', 'p', 'm', 'h', 'q', 'x', 'l', 'b', 't', 'f', 'k', 'e', 'o', 'g', 'x', 'a', 'w', 'u', 'e', 'x', 'i', 'w', 'l', 'z', 'f', 's', 'n', 'o', 'r', 'a', 'l', 'k', 'f', 'd', 'z', 'n', 'u', 'y', 'f', 'l', 'h', 'l', 'd', 'x', 's', 'f', 'y', 'k', 'r', 'q', 'f', 'a', 'd', 'l', 'u', 'r', 'm', 'l', 'e', 'n', 'h', 't', 'n', 'd', 'c', 'w', 'm', 'w', 's', 'h', 'w', 'p', 'k', 'x', 'p', 'a', 's', 's', 'k', 'm', 'k', 'v', 'c', 'i', 'p', 'd', 'v', 'r', 'o', 'g', 'w', 'l', 'n', 'l', 'i', 'r', 'z', 'e', 'd', 'i', 'q', 'n', 's', 'o', 't', 'w', 't', 'm', 'y', 'c', 'g', 't', 'a', 'u', 'm', 'm', 'x', 'y', 'y', 'q', 'w', 'u', 'y', 'k', 'd', 'm', 'm', 't', 'j', 'a', 'd', 'e', 'a', 'k', 'x', 'r', 'h', 'e', 'y', 's', 'z', 'h', 'l', 'm', 't', 'd', 'o', 'j', 'z', 'z', 'c', 'p', 's', 'k', 'i', 'w', 'z', 'e', 'c', 'a', 'a', 'b', 'd', 'q', 'o', 'z', 'x', 'u', 'm', 'h', 'u', 'b', 'q', 'l', 'i', 'u', 'r', 'd', 'a', 'v', 'u', 'g', 'f', 'i', 'j', 'z', 'n', 'r', 't', 'y', 'w', 'p', 'o', 'y', 'y', 'k', 'r', 'h', 'e', 'a', 'd', 'a', 's', 'f', 'd', 't', 'v', 'n', 'k', 'p', 'g', 'y', 's', 's', 'f', 'j', 'j', 'k', 'y', 'm', 'n', 'p', 'a', 'l', 'i', 'l', 'o', 'g', 'h', 'a', 'x', 'l', 's', 'm', 'k', 'o', 'd', 'c', 'g', 'x', 't', 'i', 'f', 'r', 's', 'm', 'z', 'g', 'p', 'o', 'g', 'k', 'o', 'u', 'x', 'b', 'a', 'y', 'h', 'b', 'z', 'n', 'z', 'c', 'p', 'q', 'a', 'a', 'v', 'i', 'o', 'f', 'm', 'x', 'a', 'n', 'd', 'p', 'y', 's', 'c', 's', 'u', 'y', 'q', 'n', 'c', 'e', 'f', 'g', 'f', 'h', 'y', 'n', 'v', 't', 'e', 'c', 'a', 'd', 'x', 'm', 'n', 'z', 'o', 'a', 'r', 'e', 'w', 'e', 'm', 'l', 't', 't', 'u', 'v', 'c', 'j', 'i', 'm', 'g', 'n', 'h', 'm', 'm', 'e', 'm', 'p', 'v', 'x', 'j', 'g', 'x', 'd', 'd', 'o', 'h', 'k', 's', 'a', 'o', 'g', 'e', 'b', 'u', 'q', 'a', 'l', 'n', 'r', 'i', 'x', 'b', 'q', 'u', 'g', 'p', 'v', 'c', 'z', 'k', 'd', 'c', 't', 'k', 'a', 'u', 'i', 'i', 'v', 'e', 'w', 'p', 'y', 'x', 'v', 'c', 'g', 'k', 'd', 's', 'c', 'q', 'n', 'j', 'f', 't', 'w', 'c', 'j', 'b', 'd', 'b', 'q', 'n', 'i', 'z', 'g', 'c', 'n', 'e', 'k', 't', 'c', 'h', 'p', 'i', 'h', 'p', 't', 'g', 'r', 'u', 'l', 'a', 'y', 'q', 'f', 't', 'a', 'x', 's', 'c', 'g', 'l', 'h', 'd', 'f', 'j', 'q', 'r', 'i', 'l', 'b', 'p', 'p', 'k', 'e', 's', 'd', 'z', 'o', 'm', 'b', 'h', 'u', 's', 'j', 'd', 'z', 'g', 'y', 's', 'k', 't', 'd', 'k', 'z', 'j', 'w', 'n', 'w', 'j', 'h', 'h', 'h', 'v', 'd', 'n', 'm', 'q', 'z', 'o', 'b', 'm', 'o', 'k', 'b', 'j', 'v', 'x', 'a', 'z', 'i', 'c', 'g', 'p', 'w', 'd', 'u', 'l', 'x', 'f', 'b', 'm', 'n', 'm', 'p', 'p', 'f', 'k', 'g', 'p', 'i', 'h', 'l', 's', 'y', 'v', 'g', 'y', 'm', 'k', 't', 'e', 'f', 'g', 'd', 'x', 'r', 'r', 'v', 'r', 'b', 'u', 'j', 't', 'n', 'z', 'a', 'k', 'o', 'y', 'e', 'j', 'm', 'x', 'y', 'p', 'n', 's', 'p', 'y', 'r', 'j', 'a', 'g', 'n', 'w', 'q', 'w', 'o', 'd', 'k', 'j', 'k', 't', 'j', 'i', 'b', 'u', 'j', 'z', 'e', 'd', 'x', 'm', 'j', 'i', 'y', 'a', 'q', 'y', 'v', 'k', 'n', 't', 'y', 'h', 'm', 's', 'i', 'm', 'm', 'm', 'v', 'g', 's', 's', 't', 't', 'j', 'd', 'i', 'r', 'y', 'd', 'r', 'i', 'k', 'l', 't', 'x', 'b', 'p', 'm', 'y', 'n', 'b', 'd', 'f', 'e', 'z', 'c', 'v', 'u', 'e', 'h', 'i', 't', 'b', 'i', 'k', 'r', 'q', 'l', 'k', 'z', 'h', 'e', 'i', 'y', 's', 'r', 'i', 'y', 'n', 's', 'l', 'c', 'h', 'j', 'a', 'y', 'b', 'q', 'g', 'r', 'v', 's', 'h', 't', 's', 'o', 's', 'h', 'o', 'q', 'i', 'q', 'c', 'y', 'k', 'j', 'v', 'h', 'q', 'd', 'h', 'p', 'd', 'v', 'x', 't', 'z', 'b', 'r', 'g', 'g', 'e', 'p', 'n', 'c', 't', 't', 'v', 'e', 't', 'b', 'v', 'i', 'h', 'e', 's', 'p', 'v', 'u', 'y', 'b', 'e', 't', 's', 'n', 'l', 'd', 'z', 'j', 'l', 'y', 'd', 'w', 't', 'h', 'v', 'b']\n"
     ]
    },
    {
     "name": "stdout",
     "output_type": "stream",
     "text": [
      "LCS length :  299\n",
      "Running time :  1.1410305500030518\n"
     ]
    }
   ],
   "source": [
    "#총 10번의 runtime()을 돌렸다.\n",
    "runtime()"
   ]
  },
  {
   "cell_type": "code",
   "execution_count": 145,
   "metadata": {},
   "outputs": [
    {
     "name": "stdout",
     "output_type": "stream",
     "text": [
      "n :  684\n",
      "X :  ['g', 'o', 'x', 'x', 'p', 'g', 'b', 'b', 'v', 'z', 'b', 'y', 'q', 's', 'd', 'l', 'z', 'p', 'l', 's', 'g', 'm', 'a', 'v', 'i', 'k', 'k', 'h', 'e', 'z', 'd', 'x', 'h', 'z', 'x', 'h', 'a', 'x', 'a', 'i', 'c', 'i', 'n', 'a', 'g', 'v', 'v', 't', 'l', 'a', 'g', 'z', 'z', 'c', 'i', 'v', 'e', 'j', 'm', 'n', 'e', 'r', 'q', 'q', 'g', 'd', 'i', 'z', 't', 'f', 'w', 'l', 'u', 'f', 'n', 'k', 'i', 'o', 'g', 'x', 'u', 'o', 'm', 'g', 'u', 'x', 'd', 'n', 'b', 'b', 'l', 'z', 'h', 'g', 'y', 'c', 'd', 'e', 'n', 'z', 'y', 'p', 'f', 'i', 'n', 'u', 'g', 'w', 'm', 'r', 'v', 'k', 'i', 'o', 'z', 'o', 'n', 'u', 'i', 'h', 'f', 'n', 'd', 'r', 'l', 'h', 'f', 'a', 'b', 'z', 'f', 'i', 'o', 'j', 'o', 'e', 'y', 'y', 'e', 'd', 'u', 'f', 'j', 'o', 'b', 't', 'a', 'l', 'z', 's', 'q', 'o', 'i', 'm', 'w', 'h', 'o', 'm', 'p', 'r', 'w', 'n', 'r', 'r', 'd', 'n', 'p', 'b', 'l', 'a', 'w', 'o', 't', 'k', 'o', 'x', 'n', 'p', 'j', 'h', 'x', 'u', 'd', 'm', 'q', 'd', 'c', 'b', 'b', 'e', 'q', 'v', 'w', 'y', 'p', 'z', 'i', 'o', 's', 'c', 'l', 'o', 'v', 'e', 't', 'a', 'd', 'j', 'x', 'v', 'e', 'e', 'c', 's', 'q', 't', 'y', 'r', 'q', 'z', 'k', 'd', 'q', 'c', 'm', 'r', 'i', 'u', 's', 'q', 'q', 'y', 'x', 'o', 'h', 'm', 'c', 'g', 'f', 'r', 'w', 'p', 'w', 'g', 'n', 'f', 'g', 'k', 'n', 'n', 'w', 'u', 'y', 'x', 'v', 'l', 'e', 'm', 'y', 'o', 'u', 'a', 'o', 'x', 'k', 'z', 'v', 'm', 'j', 'f', 'l', 'p', 'b', 'f', 'z', 'd', 'h', 'n', 'e', 'n', 'o', 'j', 's', 'g', 'q', 't', 'k', 'n', 's', 'h', 'n', 'b', 'g', 'y', 'e', 's', 'g', 'r', 't', 'b', 'o', 'w', 'b', 'z', 'b', 'm', 'j', 'l', 'g', 'r', 'r', 'h', 'e', 'l', 'w', 'p', 'm', 'b', 'j', 'r', 'h', 'e', 'f', 'p', 'w', 'o', 'z', 'l', 'n', 'a', 'b', 'y', 'q', 'j', 'e', 'g', 'c', 't', 'z', 'l', 'l', 'c', 'r', 'q', 'v', 'x', 'q', 'q', 'r', 'j', 'g', 't', 'n', 'k', 'j', 'b', 'l', 'p', 'u', 'b', 's', 'n', 'n', 'a', 'p', 'u', 'r', 'x', 'l', 'h', 'g', 'j', 'v', 'c', 'o', 'h', 'k', 'w', 'w', 'm', 'f', 'v', 'g', 'g', 'e', 'n', 'f', 'y', 'e', 'w', 'c', 'p', 'x', 'i', 'k', 'f', 't', 'n', 's', 'e', 'm', 'y', 'p', 's', 'h', 'd', 'm', 'b', 'y', 'k', 'c', 'k', 'r', 'y', 'l', 'q', 'p', 'h', 't', 'l', 'n', 'v', 't', 'a', 'f', 'c', 'q', 't', 'h', 'v', 'q', 'x', 't', 'j', 'z', 'j', 'v', 'u', 'a', 'm', 'u', 'k', 'i', 'u', 'u', 'y', 'i', 'v', 'l', 't', 'z', 'y', 'g', 'l', 'd', 'f', 'l', 'a', 'n', 'q', 'w', 'i', 'f', 'j', 't', 'b', 'x', 'c', 'r', 'o', 'f', 'r', 'm', 'b', 'p', 'j', 'l', 's', 'i', 'v', 'b', 'l', 'l', 'f', 'o', 'j', 'x', 'q', 'f', 'q', 'u', 'y', 'a', 'o', 'j', 'f', 'y', 'y', 'c', 'p', 'l', 'y', 'm', 'a', 'q', 'k', 'a', 'u', 'i', 'd', 'r', 'm', 'd', 'k', 'n', 'd', 'y', 'b', 's', 'r', 'b', 's', 's', 'p', 'e', 'd', 'w', 'v', 'r', 'j', 'l', 'k', 'v', 'f', 'q', 'b', 'u', 'g', 'h', 'q', 'u', 'l', 'w', 't', 'i', 'a', 'a', 'e', 'q', 'j', 'j', 'i', 'd', 'n', 'k', 'h', 'j', 'u', 'o', 'f', 'e', 'r', 'm', 'q', 'k', 'f', 'y', 'w', 'x', 'z', 'r', 'g', 'm', 'b', 'q', 's', 'g', 'x', 'd', 'd', 'c', 'k', 'e', 'b', 'z', 'd', 'h', 'w', 'b', 'b', 'r', 'i', 'j', 'a', 'd', 'x', 'g', 'f', 'i', 'o', 'm', 'm', 'k', 'j', 'n', 't', 'z', 'r', 'x', 'p', 'g', 'y', 'h', 'n', 'f', 'x', 'f', 'b', 'h', 'f', 'c', 'u', 'y', 'f', 'c', 'v', 'v', 'g', 'w', 'q', 'b', 'n', 'q', 'l', 't', 's', 'x', 'g', 'y', 'm', 'm', 'm', 'j', 'x', 'p', 'f', 'd', 'w', 'o', 'e', 'j', 'u', 'w', 'e', 'm', 'c', 'y', 'p', 's', 'e', 'u', 'n', 'a', 'l', 'r', 'y', 's', 'r', 'g', 'i', 'c', 'e', 'x', 'c', 'n', 'd', 't', 'b', 'v', 'e', 's', 'n', 'e', 'h']\n",
      "Y :  ['s', 'o', 'w', 'o', 'q', 'k', 'j', 'f', 'y', 'c', 'f', 'y', 'p', 'm', 'i', 'r', 'k', 'b', 'a', 'l', 'n', 'o', 'b', 'p', 'b', 'q', 'y', 't', 'a', 'l', 'd', 'e', 'm', 'o', 'a', 'o', 'u', 'i', 'r', 'x', 'm', 'o', 'o', 'x', 'o', 'u', 'r', 'x', 'j', 'e', 'q', 'u', 'c', 't', 'f', 'b', 'z', 'h', 'r', 'f', 'b', 'u', 'e', 'y', 'q', 'w', 'o', 't', 'd', 'q', 'o', 'e', 'h', 'n', 'm', 'b', 'k', 'k', 'j', 'x', 'n', 't', 's', 'c', 'b', 'b', 'r', 'k', 'v', 'j', 'l', 'w', 'f', 'w', 'p', 'k', 'd', 'c', 'a', 'o', 'n', 'i', 'u', 'p', 'h', 'n', 'l', 'h', 'p', 'z', 't', 'q', 'h', 'n', 'l', 'j', 'a', 'n', 'm', 's', 't', 'z', 'e', 'x', 'r', 'c', 'i', 'a', 't', 'g', 'p', 'e', 'y', 'q', 'q', 'y', 'v', 'x', 'a', 'd', 'l', 't', 'x', 'x', 'j', 'x', 'i', 'k', 'z', 'p', 'r', 'r', 'b', 'q', 'j', 'a', 'h', 't', 'k', 'l', 'r', 'l', 'a', 'n', 'u', 'y', 'n', 'u', 'b', 'j', 'e', 'p', 'u', 'o', 'l', 'j', 'x', 'p', 't', 'v', 'x', 'u', 'm', 'w', 'f', 's', 'a', 'l', 'l', 'h', 'h', 'p', 'h', 'i', 'z', 'c', 'e', 'g', 'x', 'u', 'm', 'r', 'o', 'r', 'l', 'x', 'i', 'r', 'm', 'v', 'n', 'o', 'e', 'w', 'w', 'o', 'h', 't', 'f', 'z', 'j', 'g', 'j', 't', 'y', 'l', 'c', 'n', 'v', 'z', 'x', 'q', 'd', 'm', 'r', 'c', 'w', 'g', 'q', 'j', 'p', 'e', 'f', 'e', 'a', 'p', 's', 'o', 'l', 'z', 'f', 's', 'a', 't', 'y', 'w', 'o', 'n', 'y', 'o', 'p', 'g', 'n', 'o', 'i', 'o', 'q', 't', 'g', 'k', 'j', 'b', 'w', 'z', 'k', 'z', 't', 't', 'k', 'm', 'w', 'x', 'r', 't', 'j', 'p', 'd', 'c', 'd', 'w', 'x', 's', 'i', 'd', 'h', 'f', 'z', 'b', 'w', 'n', 'a', 'q', 'q', 'e', 'z', 'b', 'b', 'd', 'e', 'e', 'b', 'q', 'v', 'h', 't', 'q', 's', 'b', 'a', 'z', 'x', 'i', 'x', 'q', 'm', 'v', 'q', 'd', 'w', 'd', 'p', 't', 'k', 'o', 'f', 'y', 'l', 'e', 'i', 'p', 'j', 'n', 'x', 'b', 'p', 'p', 't', 'j', 's', 'k', 'j', 'b', 'f', 'a', 's', 'z', 'w', 'g', 'j', 'i', 'v', 'h', 'b', 'i', 'r', 'm', 'q', 'w', 'd', 'g', 'z', 'h', 'y', 'j', 'p', 'x', 'j', 'e', 'h', 'd', 'h', 'b', 't', 'r', 'i', 'c', 'z', 'l', 'm', 'm', 'u', 'f', 'l', 'o', 'g', 'u', 'j', 'q', 'j', 'c', 'd', 'b', 'q', 'x', 'u', 'b', 'q', 'z', 'i', 'i', 'e', 'd', 'e', 'k', 'z', 'y', 'e', 'r', 'w', 'h', 'i', 'q', 'h', 'p', 's', 'c', 'e', 'p', 'f', 'i', 't', 'r', 'w', 'i', 'q', 'e', 't', 'n', 'q', 'a', 't', 'h', 'p', 't', 'b', 'q', 'w', 'w', 'l', 'x', 'z', 'f', 'v', 'r', 'e', 'e', 'n', 'p', 'm', 'z', 'k', 'f', 'd', 't', 'g', 'm', 'p', 'u', 'p', 'l', 'n', 'b', 'p', 't', 'w', 'i', 'p', 'z', 'v', 'g', 'b', 's', 'u', 'd', 's', 'y', 'p', 'x', 'c', 'i', 'v', 'm', 'p', 'c', 'n', 't', 'm', 'k', 'z', 'r', 'y', 'b', 'k', 'n', 'g', 't', 'm', 'f', 's', 'b', 'r', 'm', 'b', 'v', 'h', 'h', 'z', 'd', 'u', 'd', 'l', 'f', 'b', 'v', 'f', 'i', 's', 'f', 'r', 'z', 'z', 'n', 'h', 'q', 'n', 'f', 'k', 's', 'p', 'f', 'p', 'm', 'y', 't', 'd', 'v', 'k', 'k', 't', 's', 's', 'r', 'j', 'b', 'v', 'i', 'a', 'x', 't', 'v', 'e', 'y', 't', 'k', 'a', 'y', 'm', 'x', 'c', 'r', 'm', 's', 's', 'o', 'v', 'r', 'l', 'c', 'g', 'z', 'n', 'm', 'j', 'i', 'c', 'r', 'x', 'i', 'f', 'n', 'h', 'o', 's', 'u', 'g', 'u', 'a', 'e', 'w', 'k', 'b', 'e', 'f', 'x', 'y', 'd', 'i', 'e', 'y', 'n', 'd', 'v', 'j', 's', 'i', 'v', 'b', 'd', 'k', 'o', 'm', 'x', 'd', 'c', 'p', 'w', 'q', 's', 'x', 'i', 'n', 'l', 'm', 'p', 'x', 'm', 'p', 'u', 'f', 'b', 'n', 'z', 'k', 'y', 'n', 'j', 'r', 'g', 'e', 'i', 'y', 'h', 'w', 'j', 's', 'v', 'k', 'd', 'e', 'a', 'p', 's', 'u', 'e', 'h', 'n', 'q', 's', 'w', 't', 'z', 'u', 'j', 'g', 'j', 'y', 'r', 's', 'f', 'b', 'm', 'j', 'e', 'n']\n",
      "LCS length :  216\n",
      "Running time :  0.5305860042572021\n"
     ]
    }
   ],
   "source": [
    "runtime()"
   ]
  },
  {
   "cell_type": "code",
   "execution_count": 146,
   "metadata": {},
   "outputs": [
    {
     "name": "stdout",
     "output_type": "stream",
     "text": [
      "n :  582\n",
      "X :  ['z', 'k', 't', 'n', 'f', 'y', 'g', 'z', 'p', 'l', 'k', 'j', 'x', 't', 'b', 'g', 'o', 'n', 'm', 'h', 'd', 'd', 'p', 'y', 't', 'x', 'r', 'k', 'b', 'f', 'l', 'x', 'p', 'u', 'a', 'j', 't', 'r', 't', 'a', 's', 'r', 't', 'w', 'y', 'x', 'k', 'f', 'h', 'r', 'j', 'r', 'v', 's', 'f', 't', 'f', 'q', 'v', 'z', 'c', 'p', 'r', 'l', 'o', 'e', 'f', 'l', 'b', 'o', 'y', 'o', 'k', 'o', 'b', 'd', 'c', 'y', 'd', 'e', 's', 'f', 'w', 'u', 'q', 'm', 'x', 'j', 'e', 'q', 'x', 'g', 'm', 'n', 't', 'n', 'p', 'e', 'k', 'f', 'u', 'b', 'g', 'c', 'k', 'g', 'u', 'n', 'k', 'i', 'e', 'n', 'h', 'c', 'x', 'z', 'u', 's', 'j', 'n', 'b', 'c', 'i', 'z', 'r', 'm', 'f', 'x', 'y', 'h', 'v', 'a', 'u', 'e', 'k', 'q', 'o', 'y', 'f', 'u', 'b', 'z', 'e', 'm', 'q', 'l', 'e', 'a', 'z', 'j', 'c', 'e', 'n', 'y', 'i', 'q', 'u', 'x', 'n', 'i', 'o', 'g', 'c', 'n', 'u', 's', 'q', 'r', 'b', 'w', 'z', 'o', 'l', 'e', 'w', 'a', 'c', 'v', 'v', 'y', 'c', 'd', 'm', 'x', 'y', 'u', 'o', 'b', 'u', 'h', 'q', 'f', 'g', 'v', 'q', 'z', 'f', 'v', 'v', 'd', 'v', 'h', 'i', 'p', 'g', 'o', 'j', 'c', 'a', 'x', 'p', 'q', 'b', 'k', 'e', 'v', 'c', 'n', 'f', 't', 't', 'd', 'a', 'k', 't', 't', 'b', 'n', 's', 'k', 'n', 'f', 'o', 'n', 'm', 't', 'j', 'v', 'k', 'i', 'q', 'e', 'h', 'v', 'r', 'v', 'j', 'u', 'u', 'z', 'k', 'l', 'i', 'n', 'a', 'i', 'o', 'h', 'r', 'i', 'e', 'w', 'c', 'q', 'c', 'i', 'f', 'q', 'u', 'e', 'p', 'o', 'n', 'f', 'n', 'z', 'v', 'x', 'b', 'f', 'w', 't', 'h', 'l', 'q', 'f', 't', 'n', 'f', 'y', 'x', 'h', 'f', 'm', 'q', 't', 'c', 'c', 'k', 'v', 'l', 'l', 'e', 'g', 'z', 'n', 'y', 'k', 'g', 'h', 'y', 'm', 'c', 'c', 'h', 'n', 'z', 'r', 'q', 'u', 'u', 'w', 'n', 'j', 'w', 'j', 'u', 'y', 'b', 'u', 'f', 'g', 'd', 'b', 'p', 'x', 'c', 'n', 'i', 'p', 'h', 'm', 'j', 'b', 'b', 'g', 'u', 'x', 'f', 'v', 'h', 'y', 'a', 'l', 'z', 'h', 'x', 'w', 'p', 'f', 'u', 'o', 'g', 'b', 'f', 'y', 'z', 'd', 'w', 'j', 'j', 'y', 'n', 'k', 'w', 'c', 'b', 'x', 'o', 'q', 'n', 'n', 'e', 'g', 'f', 'e', 'j', 'l', 'h', 'u', 'n', 'a', 'i', 's', 'w', 'd', 'c', 't', 'p', 'j', 'u', 'm', 'm', 'l', 'i', 'q', 'm', 'y', 'l', 'w', 'h', 'y', 'z', 'e', 't', 'v', 'y', 'o', 'z', 'v', 'c', 'i', 'f', 'r', 'y', 'r', 'z', 'h', 'q', 'x', 'n', 'x', 's', 'j', 'p', 'p', 'd', 'y', 'z', 'z', 'c', 'g', 'u', 'j', 'q', 'q', 'g', 'o', 'j', 't', 'g', 'u', 'o', 'o', 'y', 'p', 'y', 's', 'p', 'n', 'm', 'a', 'c', 'n', 'p', 'z', 't', 'z', 'e', 'o', 's', 'q', 'a', 'v', 'e', 'c', 'r', 'p', 'w', 'l', 'b', 's', 'a', 'f', 'z', 's', 'i', 'i', 'x', 's', 'e', 'p', 'b', 'u', 'l', 'l', 'e', 'w', 'i', 'z', 'o', 'm', 'k', 'v', 'a', 'c', 'p', 't', 'w', 'q', 'm', 'o', 'z', 'w', 'z', 'k', 'k', 'q', 'w', 'k', 'o', 'n', 'h', 'u', 'w', 'i', 'l', 'o', 'w', 'u', 't', 'g', 'a', 'd', 'u', 'j', 'q', 't', 'k', 's', 'i', 's', 'b', 'a', 'j', 'e', 'h', 'f', 'n', 'n', 'm', 'y', 's', 'w', 't', 'u', 'q', 't', 'o', 'f', 'q', 'k', 'w', 't', 'o', 'z', 'a', 'r', 'h', 's', 'h', 'u', 'q', 'w', 's', 'a', 'q', 'g', 'f', 'v', 'u', 'c']\n",
      "Y :  ['v', 'v', 'v', 'z', 'p', 'm', 'e', 'o', 'd', 'n', 's', 'x', 's', 'x', 'c', 'p', 'r', 'e', 't', 'y', 'u', 'i', 'z', 'i', 'k', 'o', 'v', 't', 'n', 'g', 'y', 'l', 'v', 'c', 'b', 'w', 's', 'k', 'e', 'u', 'o', 'm', 'q', 'q', 'y', 'l', 'f', 'z', 'e', 'v', 'h', 'b', 'u', 'i', 'j', 'i', 'e', 's', 'c', 'y', 's', 'b', 'v', 'z', 'o', 'a', 'c', 'r', 'j', 'o', 'z', 'u', 'm', 'g', 'm', 'z', 'e', 'n', 'y', 'h', 'q', 't', 'c', 't', 'b', 'e', 'u', 'y', 'b', 'z', 's', 'q', 'b', 'm', 'k', 'e', 'b', 'f', 'e', 'n', 'j', 'n', 'h', 'a', 'r', 'v', 'k', 'f', 'v', 'l', 'w', 'l', 'e', 'a', 'o', 'm', 'x', 'v', 'i', 'v', 'm', 'm', 'b', 'c', 'r', 'd', 'o', 't', 'n', 'x', 'g', 'i', 'g', 'k', 'm', 'n', 'r', 'j', 'l', 'e', 'm', 'k', 'b', 'g', 'r', 'f', 's', 'd', 't', 'v', 'h', 'b', 'l', 'i', 'o', 'o', 'a', 'q', 'z', 'n', 'p', 'i', 'd', 'h', 'z', 'y', 'o', 'r', 'l', 'u', 'j', 'i', 'a', 'e', 'b', 'r', 'a', 'm', 'c', 'k', 'w', 'a', 'y', 'q', 'i', 'w', 'l', 'a', 's', 'v', 'b', 't', 'i', 'r', 'i', 'i', 'h', 'n', 'j', 'z', 'g', 's', 'z', 'v', 'd', 'w', 'b', 'e', 't', 'j', 't', 'h', 'c', 'u', 'm', 'f', 'o', 't', 'd', 'm', 'a', 'd', 'u', 'z', 'a', 's', 'c', 'q', 'b', 'i', 'p', 'o', 'l', 'v', 's', 'h', 'f', 'v', 'r', 'l', 'r', 's', 'f', 'y', 'd', 'k', 'i', 'w', 'v', 'z', 'q', 'w', 'c', 'u', 'k', 'x', 'n', 'p', 'd', 'u', 'k', 'w', 'y', 'z', 't', 'z', 'y', 't', 'o', 'c', 'q', 'd', 's', 'z', 'n', 'z', 'w', 'd', 's', 'u', 'b', 'w', 'y', 'f', 'w', 'l', 'v', 'u', 'v', 'j', 'x', 'q', 'v', 'p', 'v', 'o', 'i', 'w', 'c', 'a', 'e', 'x', 'd', 'c', 'g', 'u', 'u', 'z', 's', 'u', 'o', 'y', 'm', 'o', 'k', 'e', 't', 'a', 'y', 'p', 'u', 'a', 'x', 'b', 'n', 'o', 'b', 'g', 'y', 'm', 'w', 'h', 'g', 'n', 'a', 'u', 't', 'v', 'a', 'l', 'n', 'o', 'n', 'l', 'v', 'n', 'u', 'i', 'l', 'g', 'j', 'f', 'z', 'j', 'r', 'r', 'p', 'f', 'm', 'b', 't', 'x', 'e', 'q', 'e', 'f', 'r', 'k', 'p', 'o', 'i', 'x', 'e', 'l', 'l', 'h', 'k', 'n', 'g', 'w', 'u', 'e', 'j', 'n', 'd', 'l', 'r', 'z', 'j', 'j', 'h', 'h', 't', 'u', 'x', 's', 'y', 'y', 'm', 'h', 'y', 'x', 't', 's', 'b', 'o', 'z', 't', 'x', 'g', 'd', 'y', 'u', 'v', 'm', 'm', 'd', 't', 'j', 'q', 'm', 'p', 'b', 'e', 'q', 'c', 'j', 'u', 'e', 'x', 'u', 'l', 'n', 'f', 'p', 'n', 'k', 'h', 'b', 'b', 'p', 'r', 'y', 'l', 'x', 'g', 'k', 'b', 'q', 'l', 'f', 'c', 'h', 'h', 'q', 'w', 'n', 'i', 'd', 'l', 'o', 'x', 'j', 's', 'x', 'q', 'o', 'd', 'c', 'k', 'y', 'a', 'j', 'l', 's', 'w', 'm', 'e', 'y', 'z', 'a', 'o', 'g', 'g', 't', 'o', 'g', 'f', 'l', 'v', 'i', 'h', 'h', 'l', 'x', 'b', 'z', 't', 'b', 'm', 's', 's', 'i', 't', 'm', 'l', 'f', 'p', 'u', 'c', 'l', 'k', 'o', 'j', 'b', 'k', 'b', 'a', 'g', 'p', 'd', 't', 'h', 'c', 'o', 'm', 't', 'j', 'n', 'f', 'y', 'g', 's', 'b', 'l', 'e', 'v', 'a', 'c', 'w', 's', 'u', 'q', 'l', 'g', 'm', 'f', 't', 'h', 'g', 'm', 'g', 'q', 'o', 't', 'h', 'f', 'm', 'n', 's', 'z', 'p', 'x', 'e', 'g', 'e', 'd', 'n', 'u', 'm', 't', 'v', 'g', 'y', 'f', 'z', 'h', 'q', 's', 'l', 'a', 'd']\n",
      "LCS length :  192\n",
      "Running time :  0.44775986671447754\n"
     ]
    }
   ],
   "source": [
    "runtime()"
   ]
  },
  {
   "cell_type": "code",
   "execution_count": 147,
   "metadata": {},
   "outputs": [
    {
     "name": "stdout",
     "output_type": "stream",
     "text": [
      "n :  163\n",
      "X :  ['i', 'm', 'q', 'k', 'q', 'w', 'e', 'p', 'x', 'j', 'v', 'e', 'z', 'p', 'b', 'f', 'q', 'c', 'v', 'z', 'j', 'l', 'e', 'h', 'p', 'a', 'c', 'g', 'f', 'b', 'o', 's', 'y', 'm', 'i', 'g', 'o', 'h', 'o', 't', 'f', 'p', 'v', 'r', 'p', 'r', 'o', 'z', 'h', 'b', 'u', 'w', 'u', 'r', 'k', 's', 't', 'q', 'k', 'b', 'r', 'd', 'p', 'b', 'f', 'd', 'e', 'o', 's', 'd', 'q', 'c', 'n', 'k', 'w', 'u', 'w', 'y', 'n', 'i', 's', 'o', 'm', 'p', 'f', 'a', 'e', 'j', 'k', 'u', 'a', 'v', 't', 't', 'e', 'w', 'o', 'e', 'p', 'e', 'w', 'u', 'r', 'b', 't', 'b', 'b', 'f', 'r', 'p', 'u', 'g', 'e', 'c', 'd', 'v', 'i', 'd', 'k', 'y', 'w', 'o', 'q', 't', 'c', 'w', 'b', 'k', 'b', 'c', 'h', 'g', 'x', 'l', 'o', 'i', 'w', 'd', 'p', 'e', 'a', 'j', 'i', 'l', 'c', 'e', 'j', 'd', 't', 's', 'j', 'x', 'a', 'x', 'p', 'h', 'd', 's', 'e', 'y', 'k', 'r', 'p']\n",
      "Y :  ['h', 'o', 'w', 'k', 'm', 'g', 'x', 'b', 'b', 'h', 'r', 'e', 'g', 't', 'p', 'o', 'p', 'x', 'b', 'j', 'a', 'd', 'k', 'j', 'n', 'w', 'y', 'y', 'a', 'n', 'o', 'e', 't', 'y', 'e', 'w', 'h', 'g', 'k', 'e', 'a', 'i', 'v', 'q', 'q', 'm', 'j', 'm', 'q', 'n', 'm', 't', 'c', 'q', 'w', 'p', 'y', 'x', 'j', 't', 'o', 'b', 'l', 'a', 'o', 'c', 'f', 'j', 'j', 'n', 'r', 'v', 'z', 'b', 'y', 'p', 'g', 'v', 'z', 'a', 'r', 'o', 'y', 'f', 's', 'i', 'p', 'o', 'i', 'h', 't', 'g', 'y', 'q', 'k', 'a', 'j', 'a', 'q', 'y', 'z', 'r', 'k', 'j', 'u', 'q', 'p', 'u', 'f', 'h', 'y', 'j', 'x', 'i', 'i', 'z', 's', 'r', 'n', 'j', 'z', 'v', 'w', 'u', 'f', 'p', 'z', 'r', 'z', 'l', 'n', 'p', 'c', 'x', 'u', 'j', 'k', 'i', 'v', 'n', 'o', 'o', 'w', 'e', 'k', 's', 'm', 'v', 'y', 'c', 'e', 'x', 'n', 'v', 'i', 'u', 'x', 'k', 'b', 'a', 'k', 'i', 'r']\n",
      "LCS length :  49\n",
      "Running time :  0.028877973556518555\n"
     ]
    }
   ],
   "source": [
    "runtime()"
   ]
  },
  {
   "cell_type": "code",
   "execution_count": 148,
   "metadata": {},
   "outputs": [
    {
     "name": "stdout",
     "output_type": "stream",
     "text": [
      "n :  228\n",
      "X :  ['w', 'q', 'w', 'a', 'v', 'm', 'x', 'i', 'w', 'y', 'f', 'n', 'a', 'k', 's', 'm', 'g', 'z', 'm', 'x', 'y', 'v', 'v', 'k', 's', 'a', 'k', 'c', 'v', 'j', 's', 'l', 'g', 'u', 'l', 'd', 'w', 'h', 'i', 'z', 'z', 't', 'e', 't', 'e', 'n', 'r', 'w', 'x', 'r', 'a', 'k', 'o', 'c', 's', 'q', 'i', 'd', 'm', 'p', 'z', 'm', 'r', 'b', 'l', 'y', 'z', 'e', 'z', 'c', 'f', 'y', 'r', 't', 'c', 'o', 'j', 'o', 'p', 't', 'c', 'x', 'c', 'n', 'e', 'q', 'l', 't', 'a', 'z', 'd', 'u', 'r', 'm', 'r', 'a', 'a', 'i', 'e', 'm', 'g', 'u', 'x', 'w', 'n', 'o', 'b', 'y', 'm', 'o', 's', 's', 's', 'f', 'b', 'n', 'n', 'l', 'f', 'a', 'u', 'q', 'g', 'l', 'w', 'r', 'd', 'r', 'x', 't', 'w', 'i', 'x', 'e', 'r', 'x', 'n', 'g', 'w', 'e', 'o', 'b', 'm', 's', 'p', 'x', 'r', 'd', 'j', 'm', 'b', 'q', 'u', 'u', 't', 'd', 'g', 'x', 'm', 'p', 'p', 's', 'm', 'g', 'z', 'e', 'r', 'u', 'b', 'y', 'p', 'k', 't', 'j', 't', 'z', 'p', 'd', 'r', 'l', 'n', 'q', 'a', 's', 'j', 'h', 'd', 'i', 'i', 'k', 's', 'q', 'f', 'o', 'i', 'f', 'a', 'x', 'n', 'f', 'r', 'u', 'y', 'n', 'u', 'e', 'p', 'r', 'l', 'u', 'p', 'u', 'g', 'm', 'h', 'p', 'z', 'h', 'r', 'h', 'h', 'o', 'a', 'g', 'w', 'i', 'g', 'g']\n",
      "Y :  ['f', 'p', 'z', 'b', 'e', 'l', 'c', 'i', 'c', 'b', 'v', 'k', 'p', 'x', 'm', 'i', 'z', 'q', 'x', 'd', 'u', 'a', 'b', 'h', 'v', 'k', 'i', 'l', 'h', 'j', 'z', 'q', 'm', 'n', 'q', 'a', 'm', 'p', 'k', 'k', 'b', 'c', 'y', 'y', 'u', 'a', 'y', 't', 'z', 'h', 'a', 'o', 'm', 'k', 'a', 'h', 'o', 'q', 'w', 'm', 'c', 'm', 'z', 'a', 'r', 'z', 'd', 'v', 'q', 'q', 'h', 't', 'a', 'h', 'c', 'w', 'p', 'o', 'l', 'm', 'n', 'h', 't', 'r', 's', 'q', 'b', 'z', 'v', 'a', 'k', 'b', 'd', 'f', 'j', 'z', 'k', 'r', 't', 'f', 'm', 'b', 'e', 'x', 'f', 'h', 'j', 'c', 'a', 'e', 'w', 'j', 'y', 'p', 'c', 'i', 'k', 'g', 'n', 't', 's', 'j', 'j', 'w', 'i', 'w', 'o', 'r', 'q', 'k', 'z', 'f', 't', 'b', 'h', 'a', 'h', 'h', 'x', 's', 't', 'v', 'b', 'k', 'p', 'n', 'y', 'm', 'g', 'a', 'x', 'e', 'm', 'q', 'z', 'v', 'm', 'h', 's', 's', 'm', 'k', 'j', 'p', 'm', 'b', 'r', 'k', 'e', 'g', 'w', 'h', 'f', 'g', 'c', 'n', 'u', 'p', 'h', 'h', 'g', 'h', 't', 'd', 'q', 'a', 'k', 'v', 'o', 'l', 'z', 'z', 'b', 'x', 'k', 'g', 't', 'n', 'u', 'v', 'q', 'e', 'a', 'e', 'j', 'a', 't', 'o', 'f', 'd', 's', 'v', 'x', 'g', 'h', 'o', 'c', 'r', 'j', 'b', 'n', 'n', 'h', 'w', 'x', 'i', 'j', 'f']\n",
      "LCS length :  67\n",
      "Running time :  0.05086350440979004\n"
     ]
    }
   ],
   "source": [
    "runtime()"
   ]
  },
  {
   "cell_type": "code",
   "execution_count": 149,
   "metadata": {},
   "outputs": [
    {
     "name": "stdout",
     "output_type": "stream",
     "text": [
      "n :  45\n",
      "X :  ['k', 'd', 'k', 'v', 'r', 'p', 'm', 'g', 'x', 'p', 'p', 'y', 'v', 's', 'r', 'x', 'z', 'k', 'i', 'a', 'j', 'u', 'p', 'u', 'g', 's', 'i', 'r', 'd', 's', 'j', 't', 'u', 'h', 'c', 'u', 'r', 'v', 'x', 'h', 'e', 'u', 'f', 'm', 'y']\n",
      "Y :  ['o', 'd', 'x', 'q', 'b', 'r', 'y', 'h', 'u', 'b', 'k', 'f', 'n', 'e', 'c', 'r', 't', 'p', 'e', 'e', 'k', 's', 'k', 'd', 'b', 'm', 'q', 'n', 't', 'd', 'z', 'v', 'c', 'l', 't', 'n', 'h', 'g', 'q', 's', 'o', 't', 'i', 'k', 'v']\n",
      "LCS length :  10\n",
      "Running time :  0.002987384796142578\n"
     ]
    }
   ],
   "source": [
    "runtime()"
   ]
  },
  {
   "cell_type": "code",
   "execution_count": 150,
   "metadata": {},
   "outputs": [
    {
     "name": "stdout",
     "output_type": "stream",
     "text": [
      "n :  501\n",
      "X :  ['s', 'r', 'a', 'g', 'f', 'v', 'r', 'u', 't', 'w', 'b', 'v', 'g', 'i', 'e', 'x', 'v', 'm', 'b', 's', 'i', 'o', 'e', 'u', 'f', 'y', 'd', 'f', 'y', 'm', 'a', 'v', 'h', 'a', 'y', 'p', 'i', 'p', 'g', 'w', 'v', 'q', 'x', 'r', 'o', 'q', 'e', 'r', 'a', 'v', 'w', 'i', 'y', 'x', 'u', 'b', 'j', 'h', 'j', 'u', 'b', 'd', 'd', 'o', 'n', 'j', 'h', 't', 'y', 'm', 'h', 'w', 'w', 'c', 'q', 'n', 'f', 'l', 'y', 'g', 'g', 'w', 'n', 'q', 'b', 'i', 'o', 'e', 'v', 'q', 'p', 'u', 'q', 'r', 'a', 'l', 'l', 'h', 'f', 'v', 's', 'v', 't', 'v', 'w', 'k', 'k', 'j', 'k', 'o', 'x', 'a', 'v', 'u', 's', 's', 'h', 'v', 'c', 'o', 'e', 'g', 'p', 'q', 'k', 'n', 'd', 'x', 'y', 'z', 's', 'd', 'd', 'r', 'm', 'k', 'f', 'r', 'w', 'u', 'u', 'o', 'a', 's', 'u', 'm', 'd', 'b', 'z', 't', 'a', 'b', 'j', 'g', 'j', 'q', 'o', 'i', 'z', 'o', 'z', 'a', 'o', 'o', 'q', 'r', 'k', 'z', 'k', 'f', 'u', 't', 'n', 'f', 'y', 'w', 'l', 'e', 'g', 'r', 'k', 'c', 'v', 'f', 'm', 't', 'b', 'o', 'q', 'c', 'u', 'k', 'a', 'g', 'c', 'n', 'b', 'j', 'e', 't', 'j', 'z', 'd', 'b', 'w', 'x', 'q', 'l', 'm', 'a', 'b', 'c', 'k', 'i', 'e', 'k', 's', 'f', 'h', 'e', 'o', 'w', 'i', 's', 'm', 'd', 'p', 'o', 'r', 's', 'g', 'f', 'l', 'z', 'f', 'l', 'a', 'm', 'k', 'h', 'h', 'm', 'b', 'n', 'p', 'b', 'z', 'e', 't', 'h', 'f', 'b', 'n', 'm', 's', 'q', 'q', 'y', 'r', 'e', 'h', 'h', 'p', 'e', 'y', 'z', 'l', 'g', 'z', 'w', 'n', 'j', 'j', 'h', 'n', 'a', 'v', 't', 'q', 'e', 'r', 'y', 'e', 'n', 'q', 'm', 'l', 'd', 'c', 'k', 't', 'o', 'v', 'r', 'r', 'o', 'o', 'p', 'i', 'g', 'o', 'z', 's', 'l', 'q', 'c', 'a', 'u', 'p', 'u', 'q', 'y', 'k', 'r', 'y', 'b', 'e', 'b', 'y', 'f', 'm', 'f', 'w', 'g', 'l', 'j', 'b', 'g', 'b', 'a', 't', 'd', 'f', 'd', 'e', 'r', 'p', 'j', 'y', 'n', 'c', 'j', 'g', 'n', 'h', 'l', 'y', 'c', 'r', 'w', 'a', 'z', 'e', 'l', 'h', 'v', 'f', 'i', 'n', 's', 't', 'y', 'e', 'x', 'h', 'f', 'g', 'b', 'b', 'm', 'i', 'z', 'r', 'm', 'k', 'f', 'd', 'h', 'l', 'y', 'c', 'i', 'o', 'z', 'c', 't', 'l', 'n', 'x', 'm', 'z', 'm', 'b', 'j', 'h', 'z', 'w', 'j', 'i', 'b', 'c', 'w', 'j', 'i', 'u', 'e', 'a', 'h', 'n', 't', 'd', 'm', 'b', 't', 'e', 'v', 'p', 'h', 'i', 'v', 'y', 'e', 'q', 'y', 'y', 'q', 'f', 'g', 'w', 'c', 'z', 'g', 'h', 'n', 'h', 's', 'f', 'u', 'x', 't', 'y', 'u', 'k', 'w', 'r', 'o', 'b', 'l', 'd', 'i', 'o', 'h', 'z', 'v', 'l', 's', 'o', 'j', 'a', 'g', 'n', 'b', 'g', 'i', 'r', 'd', 'b', 'g', 'd', 'd', 's', 'b', 'v', 'g', 'g', 'n', 'c', 'q', 'j', 'b', 'y', 'd', 'b', 'q', 'd', 't', 'q', 'l', 'd', 's', 'm', 'd', 'i', 'p', 'i', 'y', 'p', 'f', 'n', 'w', 'r']\n",
      "Y :  ['g', 'j', 'h', 'f', 'z', 'j', 'e', 'k', 'u', 'b', 'c', 'i', 'm', 'w', 'g', 'u', 'z', 'l', 'z', 'o', 'w', 'x', 'h', 'y', 'q', 'z', 'l', 'j', 'c', 'c', 'w', 'm', 'j', 'q', 'u', 'd', 'p', 'w', 'k', 'k', 'm', 'a', 'r', 'n', 'r', 'r', 'a', 'w', 'n', 'g', 's', 'c', 'l', 'n', 's', 'g', 'y', 'u', 'k', 'j', 'k', 'r', 'r', 'o', 'h', 'b', 'd', 'u', 'q', 'u', 'a', 'u', 'r', 'h', 'h', 'm', 'd', 'u', 'a', 'h', 'p', 't', 'u', 'x', 'q', 'l', 'y', 'q', 't', 's', 'p', 'a', 'i', 'v', 'm', 'h', 'd', 'j', 's', 'w', 'a', 'l', 'x', 'g', 's', 'a', 'w', 'r', 'y', 't', 'k', 'c', 'e', 'p', 'd', 'w', 'v', 'b', 'o', 'k', 'r', 'l', 'v', 'u', 't', 'z', 't', 'j', 'r', 'z', 'c', 'v', 'i', 'k', 'a', 'q', 'e', 'r', 'q', 'l', 'q', 'b', 'u', 'f', 'g', 'l', 'd', 'z', 'w', 'h', 'g', 'u', 'w', 'd', 'h', 'e', 'd', 'z', 'b', 'o', 'd', 'm', 'o', 'h', 'p', 'j', 's', 'b', 'i', 'n', 'x', 'k', 'r', 't', 'n', 'g', 'd', 'a', 'o', 'i', 'y', 'c', 'f', 'n', 'g', 'o', 'd', 'l', 't', 'c', 'x', 'c', 'l', 'c', 'd', 'd', 'b', 'h', 'e', 'r', 'a', 'g', 'i', 'r', 'l', 'i', 'g', 'i', 'f', 'b', 'v', 'q', 'n', 'z', 's', 'u', 'c', 'i', 't', 'p', 'l', 'k', 'y', 'o', 'z', 'c', 'g', 't', 'k', 'g', 'j', 'd', 'r', 'q', 'j', 'g', 'y', 'y', 'u', 'p', 'i', 'o', 'j', 'z', 'f', 'k', 'z', 'g', 'w', 'n', 'v', 'i', 'i', 'o', 's', 'z', 'k', 'h', 'x', 'q', 'h', 'q', 'a', 'h', 'p', 'b', 'e', 'f', 'v', 'l', 'x', 'a', 'w', 'y', 'e', 'n', 'f', 'y', 'a', 'v', 'b', 'a', 'l', 'm', 'g', 'z', 'h', 'q', 'k', 'n', 'z', 'x', 'c', 'e', 'n', 'q', 't', 't', 'm', 'v', 'y', 'o', 'y', 's', 'b', 'p', 'm', 's', 'j', 'm', 'c', 'g', 'i', 'r', 'j', 'i', 't', 'o', 'f', 'a', 't', 'y', 'o', 'y', 'g', 'x', 'z', 'z', 'j', 'm', 's', 'f', 'i', 'v', 'q', 'l', 'n', 'f', 'a', 'w', 'r', 'h', 'm', 'b', 'o', 'h', 'h', 'l', 'b', 'u', 'v', 'd', 'c', 'u', 'v', 't', 'u', 'p', 'z', 'a', 'd', 'f', 'a', 'j', 'p', 'g', 'x', 'e', 'j', 'q', 'y', 'y', 'l', 'k', 'v', 'y', 'o', 'u', 'v', 'r', 'b', 't', 'h', 'q', 'r', 'l', 'u', 's', 'z', 'm', 'v', 'o', 'c', 'f', 'y', 'd', 'x', 'r', 'n', 'p', 'z', 'j', 'b', 'd', 'g', 'n', 'o', 'w', 's', 'y', 'y', 's', 'a', 'o', 'm', 'r', 'u', 'k', 'j', 's', 'f', 'p', 'y', 'b', 'i', 'w', 'n', 'f', 'o', 'a', 't', 'w', 'p', 'd', 't', 'x', 'n', 'a', 'q', 'e', 'y', 'i', 'n', 'j', 'l', 'g', 'y', 'a', 'u', 'n', 'a', 'y', 'm', 'm', 'q', 'g', 'f', 'n', 'k', 'c', 'z', 'w', 'z', 'p', 'i', 'e', 'h', 's', 's', 'q', 's', 'c', 'r', 'z', 'w', 'o', 't', 'z', 'k', 'd', 'y', 'f', 'a', 't', 'i', 'o', 'f', 'v', 'q', 'd', 'e', 'd', 'm', 'p', 'l', 'o', 'z', 't', 'e', 'e', 'n']\n",
      "LCS length :  158\n",
      "Running time :  0.35305261611938477\n"
     ]
    }
   ],
   "source": [
    "runtime()"
   ]
  },
  {
   "cell_type": "code",
   "execution_count": 151,
   "metadata": {},
   "outputs": [
    {
     "name": "stdout",
     "output_type": "stream",
     "text": [
      "n :  525\n",
      "X :  ['l', 'v', 'y', 'm', 'a', 'k', 'g', 'l', 'z', 'o', 'b', 'p', 'd', 'a', 'r', 'w', 's', 'o', 'n', 'd', 'f', 'w', 'h', 'k', 'n', 's', 'h', 'k', 'j', 'q', 'q', 'o', 'x', 'l', 'r', 'p', 'j', 'v', 'h', 'a', 'w', 'z', 'w', 'v', 'm', 'x', 'z', 'a', 'e', 'p', 'm', 'r', 'n', 'p', 'q', 'q', 'm', 'l', 'k', 'm', 'r', 'y', 'j', 'j', 'b', 'n', 'e', 'p', 'p', 'v', 'y', 'v', 'm', 'n', 'f', 't', 'i', 'x', 'w', 'g', 'p', 'o', 'c', 'i', 'l', 'e', 'p', 'z', 'a', 'k', 'u', 'x', 'h', 'o', 'g', 'n', 'n', 't', 'n', 'd', 'a', 'w', 'i', 'k', 'p', 'e', 'x', 'c', 'd', 'c', 'z', 'z', 'm', 'g', 'z', 'z', 'd', 'u', 'a', 'o', 'e', 'n', 'v', 'z', 'o', 'i', 'd', 'b', 'l', 'd', 'i', 'a', 'a', 'o', 'x', 'e', 'd', 'l', 'q', 'x', 'r', 'o', 'v', 'p', 'z', 'x', 'q', 'q', 'w', 'f', 'w', 'g', 'f', 'a', 'k', 'g', 's', 'g', 'c', 'n', 'y', 's', 'y', 'k', 'd', 't', 'i', 'j', 'o', 'e', 'y', 'u', 'l', 'y', 'q', 'a', 'y', 'e', 'p', 'm', 'b', 'e', 'h', 'z', 'q', 'l', 'u', 'y', 'o', 'q', 'j', 'e', 's', 'j', 'f', 'q', 'f', 'a', 'm', 's', 'o', 'h', 'o', 'j', 'h', 'v', 'u', 'm', 'f', 'j', 'u', 'b', 'z', 'u', 'd', 'm', 'c', 'j', 'a', 'y', 'f', 't', 'i', 'a', 's', 't', 'v', 'y', 'y', 'h', 'q', 't', 'l', 'k', 'p', 'b', 'u', 'm', 'q', 'q', 'u', 'e', 'n', 'n', 'z', 'z', 'u', 'o', 'd', 'j', 'w', 'b', 'p', 'd', 'j', 'd', 'g', 'x', 'b', 'g', 'o', 'e', 'm', 'h', 'e', 'k', 'e', 'e', 'l', 'a', 'r', 'm', 'h', 's', 'f', 'w', 'x', 'n', 'e', 'j', 'g', 'q', 'p', 'o', 'h', 'e', 'f', 'b', 'h', 'p', 'w', 'x', 'h', 'k', 't', 'l', 'e', 'f', 'f', 'f', 'j', 'n', 'l', 'k', 'b', 'p', 'g', 'n', 'r', 'u', 'j', 'j', 'r', 'x', 'a', 'y', 'r', 'h', 't', 'b', 'r', 'c', 'n', 'f', 'y', 'r', 'f', 's', 'z', 'l', 'm', 'j', 't', 'i', 'b', 'r', 'v', 'l', 's', 't', 'x', 'v', 'm', 't', 'n', 'u', 'p', 'k', 'u', 'n', 'e', 'k', 'z', 'w', 'z', 'c', 'i', 'y', 'b', 'g', 'z', 'z', 'j', 'f', 'm', 'a', 'a', 'g', 's', 'c', 'k', 'x', 'j', 'p', 'g', 'v', 'e', 'f', 'w', 't', 'i', 'b', 'h', 'e', 'x', 's', 'v', 'w', 'v', 'i', 't', 'x', 'l', 'y', 'b', 'x', 'a', 'y', 'm', 'x', 'r', 'r', 'y', 'p', 'b', 'x', 'n', 'p', 't', 'f', 'l', 'e', 'b', 'u', 'g', 's', 'u', 'j', 'y', 'p', 'r', 'o', 'k', 'd', 'x', 't', 'e', 'x', 'x', 'n', 'c', 'z', 'o', 'w', 'p', 'p', 'i', 'm', 'x', 'k', 'l', 'i', 'd', 'r', 's', 'x', 'n', 'v', 'l', 'l', 'y', 'l', 'a', 'z', 't', 'h', 'x', 'y', 'h', 'p', 'o', 'v', 'l', 'r', 't', 'e', 'w', 'y', 'd', 'r', 'q', 't', 't', 'n', 't', 'u', 'z', 'l', 'p', 'n', 'j', 'c', 'y', 'z', 'x', 'f', 'v', 'd', 'b', 'r', 'x', 'j', 'x', 'z', 'e', 'g', 't', 'h', 'b', 'l', 'o', 'n', 'v', 'c', 'z', 'n', 'd', 'u', 'e', 'z', 'd', 'l', 'g', 'b', 'c', 'i', 'x', 'r', 'r', 'v', 'n', 'd', 's', 'v', 'o']\n",
      "Y :  ['o', 'l', 'p', 'a', 'j', 'r', 'z', 'l', 'j', 'i', 'j', 'r', 'a', 'i', 'z', 'v', 'x', 'k', 'q', 'w', 'd', 'c', 'z', 'r', 't', 'b', 'c', 'x', 'm', 't', 'x', 'p', 'm', 'h', 'o', 'v', 'd', 'd', 'b', 'y', 'n', 'v', 'z', 'w', 'p', 'v', 's', 'v', 'e', 'h', 'v', 'y', 'w', 'i', 'g', 'm', 'p', 'o', 'p', 'o', 'z', 'u', 'v', 'u', 'v', 'l', 'j', 'd', 'p', 'l', 'j', 'v', 'n', 'z', 's', 'i', 'p', 'm', 'w', 'h', 'r', 'g', 'p', 'y', 'w', 'k', 'y', 'p', 'c', 'f', 't', 'm', 'a', 'x', 'u', 'v', 'b', 'o', 'b', 'h', 'm', 'i', 'z', 'w', 'u', 'o', 'w', 'x', 'g', 'o', 'a', 'l', 'n', 't', 'z', 'd', 'r', 'h', 'm', 'd', 't', 'h', 'v', 'x', 't', 'z', 'n', 'w', 'm', 'g', 't', 'i', 'q', 'f', 'l', 'a', 'g', 'w', 'z', 's', 'i', 'i', 'j', 'k', 'j', 'd', 'f', 'm', 'l', 'j', 'v', 'x', 'o', 'z', 'l', 'o', 'c', 'd', 's', 'p', 'v', 'a', 'u', 'u', 'k', 's', 'c', 'w', 't', 'j', 'd', 'd', 't', 'd', 'z', 'c', 'i', 'm', 's', 'i', 'o', 'g', 'k', 'l', 'a', 'm', 'o', 'n', 'n', 'e', 'm', 'i', 'b', 'y', 'b', 'v', 'c', 'm', 'y', 'w', 'j', 'm', 'n', 'e', 'h', 'w', 'y', 'w', 'p', 'r', 'n', 'n', 'y', 'z', 'w', 'k', 'j', 'e', 'm', 't', 'o', 'l', 'r', 'y', 'u', 'v', 'a', 'f', 'e', 'x', 'n', 'q', 'o', 't', 'l', 'f', 't', 'k', 'p', 'o', 'o', 'o', 'c', 'f', 'k', 'e', 'h', 'g', 'x', 'x', 'g', 't', 'q', 'e', 'c', 'f', 'm', 'f', 'y', 'o', 'q', 'w', 'g', 'j', 's', 'v', 'h', 'b', 'q', 'n', 'n', 't', 'z', 't', 'h', 'x', 'n', 'y', 'v', 'z', 'r', 'a', 'v', 'p', 'g', 'k', 'g', 't', 'n', 'k', 'v', 'a', 'f', 'g', 'l', 'g', 'g', 'l', 'v', 'f', 'd', 'l', 'k', 'j', 'm', 't', 'u', 'n', 'c', 'd', 'm', 'n', 'p', 'g', 'u', 'h', 't', 'k', 'v', 's', 'n', 'o', 'b', 'q', 'c', 'y', 'v', 'n', 'f', 'b', 'r', 'q', 'n', 'f', 'e', 'r', 'j', 'g', 's', 'e', 'z', 'n', 'w', 'y', 'v', 'e', 'h', 'y', 'i', 'c', 'f', 't', 'y', 'z', 'l', 'e', 'd', 'c', 'q', 'q', 'v', 'o', 'v', 'w', 'h', 'o', 's', 'j', 's', 'j', 'h', 'y', 'n', 'n', 'n', 't', 'd', 'd', 'j', 'u', 'i', 'o', 'q', 'k', 'u', 'j', 'b', 'w', 'd', 'v', 'm', 'd', 'i', 'j', 'l', 'l', 's', 'e', 'k', 's', 'u', 't', 'y', 'c', 'j', 'b', 'r', 'j', 'e', 'y', 'x', 'g', 'm', 'a', 'g', 'r', 'h', 'g', 'j', 'o', 'l', 'k', 't', 'e', 'a', 'u', 'f', 'p', 'q', 'k', 'q', 'p', 'z', 'j', 'c', 'g', 'j', 'j', 'y', 'l', 'i', 'm', 'n', 'c', 's', 'n', 's', 'r', 'i', 'f', 'd', 'v', 'c', 'l', 'v', 'n', 'n', 'x', 'k', 'b', 'o', 'r', 'x', 'p', 'y', 'r', 'l', 'o', 'p', 'm', 'h', 'a', 'd', 'f', 'z', 'q', 'o', 'o', 'l', 'y', 'g', 'n', 'j', 'r', 'g', 'j', 'y', 'n', 'c', 'w', 'z', 'i', 't', 'x', 'u', 'f', 'z', 'x', 'v', 'p', 'h', 'e', 'b', 'e', 'd', 'b', 'm', 'g', 'h', 'p', 'u', 'r', 'o', 's', 'p', 'h', 'n', 'h', 'i', 'j', 'n', 'j', 't', 'k', 'q']\n",
      "LCS length :  168\n",
      "Running time :  0.3151538372039795\n"
     ]
    }
   ],
   "source": [
    "runtime()"
   ]
  },
  {
   "cell_type": "code",
   "execution_count": 152,
   "metadata": {},
   "outputs": [
    {
     "name": "stdout",
     "output_type": "stream",
     "text": [
      "n :  299\n",
      "X :  ['z', 't', 'o', 'v', 'n', 'r', 'h', 'f', 'j', 'j', 'r', 'a', 'd', 'j', 'w', 'q', 'p', 'v', 'w', 'x', 'v', 'l', 'l', 'i', 'b', 'f', 'x', 'g', 'g', 'b', 'n', 'x', 'l', 'h', 'y', 'k', 'j', 'f', 'y', 'w', 'l', 'e', 'd', 'r', 'h', 'v', 'n', 'b', 'u', 'n', 'r', 'f', 'k', 'x', 'm', 'l', 'x', 'm', 'd', 'm', 'k', 'q', 'e', 'f', 'k', 'r', 'd', 'm', 'm', 't', 'h', 'i', 'e', 'o', 'e', 'n', 'l', 'i', 't', 'u', 'b', 'd', 'b', 'w', 'r', 'e', 'm', 'f', 'z', 'v', 't', 's', 'p', 'w', 'y', 'w', 'o', 'r', 'y', 'x', 'e', 'k', 'c', 'o', 'f', 'v', 'r', 'h', 'z', 'k', 'h', 'q', 'x', 'e', 'l', 'm', 'm', 'b', 's', 'p', 'j', 'm', 'h', 'f', 'e', 'd', 'z', 'q', 'd', 'y', 'f', 'x', 'o', 'y', 'v', 'c', 'z', 'x', 'm', 'd', 'r', 'r', 'v', 'm', 'x', 'q', 'h', 's', 'g', 'g', 'c', 'e', 'c', 'o', 't', 'j', 'p', 'w', 'b', 's', 'z', 'q', 't', 'e', 'j', 'm', 'x', 'f', 'z', 'q', 'a', 'm', 'i', 'g', 'q', 'l', 'x', 'l', 'n', 'a', 'b', 'x', 's', 'o', 'd', 'b', 'w', 'c', 'x', 'e', 'y', 'x', 'o', 'e', 'a', 'g', 'm', 'n', 'i', 'v', 'f', 'o', 'r', 'z', 'd', 'e', 'r', 'i', 'j', 'l', 'u', 'w', 'f', 'x', 's', 'q', 'w', 'r', 'z', 'i', 'n', 'q', 'z', 'g', 'l', 'f', 'p', 'l', 'c', 'o', 'p', 'w', 'f', 'z', 'l', 'l', 'd', 'c', 'k', 'i', 'v', 'r', 't', 'l', 'm', 'p', 'o', 'f', 'c', 'f', 'u', 'i', 'j', 'z', 'k', 'f', 'p', 's', 'i', 'm', 'e', 't', 'd', 'n', 'd', 'd', 's', 'j', 'q', 'u', 'u', 'e', 'u', 's', 'c', 'w', 'a', 'o', 'o', 'g', 'n', 'p', 'v', 'c', 's', 'u', 'k', 'q', 'w', 'h', 'h', 'k', 't', 'j', 'g', 'r', 'q', 'g', 's']\n",
      "Y :  ['e', 'u', 'i', 'f', 'h', 'v', 'a', 'b', 'v', 's', 'x', 'o', 'r', 's', 'k', 'k', 'd', 'f', 'd', 'p', 'j', 'r', 'g', 'g', 'x', 'a', 'i', 'i', 'd', 'h', 'k', 'n', 's', 'l', 'f', 't', 'z', 'x', 'j', 'd', 'x', 'z', 'd', 'j', 'a', 's', 'n', 'a', 'v', 'n', 'x', 'l', 'v', 'a', 'b', 'q', 'e', 'z', 'o', 'u', 'c', 'm', 'n', 'v', 'b', 'u', 'b', 'p', 'e', 'f', 'd', 'w', 'r', 'm', 'b', 'p', 's', 'd', 'e', 'n', 'g', 'q', 'v', 'n', 'j', 'z', 'r', 'n', 'd', 'i', 'f', 'i', 'l', 'l', 'l', 'l', 'n', 'j', 'z', 'z', 'y', 'l', 's', 'f', 't', 'a', 'u', 'f', 'b', 'w', 'g', 'q', 'e', 'l', 'e', 'o', 'h', 'q', 'k', 'y', 'b', 'b', 'g', 'm', 'n', 'h', 't', 'o', 'r', 'i', 'd', 'l', 'h', 'd', 's', 'u', 'g', 'k', 'h', 'u', 'b', 'x', 'b', 'k', 's', 'w', 'e', 'i', 'x', 'r', 'h', 'n', 'r', 'f', 'm', 'i', 'y', 'p', 'p', 'f', 'h', 'j', 'k', 'j', 'w', 'l', 'd', 'r', 's', 's', 'p', 'q', 'h', 'z', 't', 'g', 'g', 'e', 'o', 'w', 'g', 'i', 'f', 'g', 'h', 'm', 'z', 'w', 'x', 'u', 'p', 'k', 't', 'x', 't', 't', 'z', 'j', 'j', 'o', 'w', 'l', 's', 'i', 'b', 's', 'v', 'c', 'h', 'm', 'g', 'a', 'r', 'b', 'b', 'c', 'u', 'y', 'u', 'z', 'q', 'y', 'x', 'j', 'h', 'h', 'h', 't', 'j', 'l', 'l', 'e', 'f', 'p', 'w', 'j', 'k', 'e', 'a', 'w', 'q', 'o', 'n', 'y', 'g', 's', 'b', 'u', 't', 'm', 'l', 'b', 's', 'q', 'l', 't', 'z', 'i', 'd', 'w', 'h', 't', 'y', 'h', 'd', 'j', 'm', 'r', 'p', 'l', 'd', 'd', 't', 'v', 'f', 'd', 'j', 'n', 'p', 'b', 'm', 'w', 'm', 'k', 'l', 'p', 'p', 'v', 'l', 'q', 'j', 'i', 'r', 't', 'g', 'p', 'i', 'v', 'k']\n",
      "LCS length :  91\n",
      "Running time :  0.08883070945739746\n"
     ]
    }
   ],
   "source": [
    "runtime()"
   ]
  },
  {
   "cell_type": "code",
   "execution_count": 153,
   "metadata": {},
   "outputs": [
    {
     "name": "stdout",
     "output_type": "stream",
     "text": [
      "n :  659\n",
      "X :  ['z', 'p', 'o', 'e', 'c', 'j', 'v', 'w', 'm', 'k', 'h', 'q', 'z', 'y', 'o', 'z', 'w', 'j', 'r', 'm', 'b', 'v', 'r', 'k', 'i', 'f', 's', 'z', 'b', 'm', 'd', 'h', 'x', 'i', 'o', 'w', 'd', 'q', 'e', 'y', 'x', 'o', 'l', 'd', 'g', 'd', 'v', 'i', 'y', 'e', 's', 'l', 'v', 'o', 'e', 's', 'h', 'n', 'd', 'w', 'e', 'p', 'r', 'j', 'p', 'r', 'c', 'h', 'z', 'l', 'c', 'q', 'g', 'v', 'n', 'q', 't', 'd', 'r', 'l', 'l', 'a', 'm', 'i', 'l', 'k', 'f', 'v', 'f', 'n', 'j', 'o', 'k', 'q', 'u', 'g', 'e', 'z', 'k', 'a', 'e', 'l', 'b', 'v', 'a', 'k', 's', 't', 's', 'd', 'n', 'v', 'y', 'l', 'q', 's', 'e', 'n', 'c', 'r', 'q', 'm', 'y', 'm', 'm', 'u', 'y', 'p', 'b', 'c', 's', 'j', 'n', 'v', 's', 'm', 'c', 'l', 'w', 'm', 'n', 'h', 'j', 'u', 'c', 'k', 'd', 'q', 'p', 'h', 'q', 't', 'm', 'b', 'i', 'x', 'k', 'e', 'r', 'p', 't', 'y', 'n', 'l', 'j', 'e', 'z', 't', 'r', 'j', 'd', 'l', 'w', 'x', 'i', 'n', 'q', 'c', 'c', 'i', 'w', 'q', 'w', 's', 'w', 'w', 'l', 'f', 'j', 'c', 'r', 'l', 'i', 'c', 's', 'b', 'w', 'a', 't', 'h', 'h', 'e', 'h', 'w', 's', 'p', 'x', 'w', 'w', 'h', 'e', 'g', 'z', 'i', 'f', 'p', 'e', 'i', 'q', 's', 'e', 'i', 'h', 'b', 'o', 'a', 'w', 'p', 'y', 'k', 'z', 'j', 'k', 'a', 'b', 'n', 'd', 'a', 'r', 'f', 'u', 'x', 'l', 's', 'h', 'd', 'l', 'w', 'b', 'd', 'u', 'b', 'y', 'u', 'p', 'x', 'n', 'o', 'k', 'k', 'x', 'y', 'd', 'q', 's', 'f', 'w', 'p', 'u', 'd', 'a', 'o', 's', 'm', 'y', 'n', 'f', 'n', 'b', 'd', 'l', 'j', 'x', 'z', 'z', 'l', 'u', 'i', 'd', 'o', 'r', 'r', 'o', 'e', 'h', 'g', 'c', 'w', 'w', 'y', 'b', 'q', 'j', 'n', 'z', 'k', 'p', 'w', 'm', 'p', 't', 'l', 'g', 'e', 'n', 'd', 'h', 'e', 'k', 'q', 'g', 'p', 'u', 'g', 't', 'c', 'l', 'b', 'y', 'l', 'h', 'c', 'f', 'f', 'p', 'b', 'r', 'u', 's', 'c', 'p', 'u', 'j', 'u', 'c', 'w', 'b', 'r', 'o', 'y', 'h', 'y', 'n', 'p', 'm', 'c', 'r', 'm', 'p', 'n', 'e', 'd', 'q', 'p', 'a', 'i', 'i', 'l', 'n', 't', 'e', 'l', 'z', 'h', 'a', 'm', 'x', 'j', 'a', 'w', 'h', 'h', 'x', 'r', 'm', 'r', 'w', 't', 'd', 'w', 'x', 'x', 'u', 'd', 'c', 'k', 'n', 'f', 'k', 'i', 'q', 'a', 's', 'p', 'i', 'g', 'r', 'f', 'o', 'y', 'r', 'q', 'w', 'p', 'v', 'u', 's', 'd', 'm', 'x', 'q', 'l', 'c', 'h', 'c', 'x', 'j', 'a', 'j', 'z', 'x', 'm', 't', 'z', 'w', 'p', 'w', 'm', 'h', 'r', 'j', 'w', 'z', 'g', 'r', 'k', 'd', 'p', 'e', 'r', 'q', 'i', 'e', 'j', 't', 'r', 'f', 't', 'z', 'h', 'm', 'z', 'j', 't', 'y', 'w', 'i', 'l', 'g', 'n', 'd', 'h', 'h', 'g', 'e', 'f', 'e', 'b', 'z', 'f', 'q', 'k', 'v', 'h', 'c', 'f', 'm', 'b', 'l', 'k', 'y', 'u', 'v', 'f', 'k', 'q', 'b', 'o', 'e', 'v', 'd', 'f', 'w', 'z', 'e', 'i', 'm', 'j', 'f', 'u', 'k', 'y', 's', 'g', 'c', 'b', 'm', 'v', 'u', 'u', 'e', 'q', 'p', 'f', 'o', 'x', 'q', 'q', 'k', 'i', 'e', 'g', 'p', 't', 'p', 'u', 'j', 'h', 's', 'q', 'x', 'h', 'u', 'p', 'b', 'j', 'j', 'd', 'r', 'v', 'p', 'c', 'f', 'u', 'k', 'o', 'i', 'y', 'q', 'l', 'j', 'c', 'f', 'n', 'x', 'm', 'q', 'i', 'v', 'e', 'r', 'w', 'f', 'd', 't', 'y', 'l', 'o', 'h', 'k', 'g', 'j', 't', 'w', 'l', 'x', 'r', 'x', 'r', 'u', 'm', 'e', 'd', 't', 'l', 'f', 'j', 'z', 'q', 'm', 'j', 'x', 'h', 'c', 'n', 'x', 'b', 't', 'a', 'k', 'b', 'u', 'v', 'd', 'g', 'q', 'j', 'z', 'z', 'x', 's', 'u', 'a', 'm', 'u', 'e', 'a', 'n', 'o', 'm', 'l', 'i', 'f', 'l', 'z', 'w', 'o', 'v', 'p', 't', 't', 'r', 't', 'l', 'g', 'a', 'a', 'n', 'u', 't', 'r', 'i', 'n', 'u', 'g', 'c', 'n', 'o', 'k']\n",
      "Y :  ['n', 'd', 'c', 'l', 'h', 'j', 'f', 'z', 'q', 'r', 'm', 'q', 'i', 's', 'r', 'e', 'd', 'k', 'd', 'w', 'h', 'p', 'w', 'g', 'f', 's', 'k', 'p', 'b', 'c', 'i', 'z', 'd', 'b', 'w', 's', 'd', 'g', 'q', 'q', 'd', 'd', 'm', 'c', 'u', 'b', 'b', 'w', 'v', 'c', 'c', 't', 'c', 't', 'f', 'd', 'j', 'j', 'e', 't', 'm', 'f', 'l', 'g', 'f', 'n', 'u', 'p', 'y', 'l', 'd', 'u', 'q', 'p', 'v', 'g', 'd', 'o', 'd', 'z', 'o', 'f', 's', 'i', 'q', 'x', 'n', 'x', 'y', 'q', 'i', 'j', 'f', 'w', 'e', 'x', 'm', 'k', 'i', 'j', 'b', 'm', 'r', 'u', 'x', 'v', 'v', 'j', 't', 'x', 'i', 'r', 'o', 'b', 'r', 'h', 'h', 'k', 'b', 'u', 'x', 'l', 'p', 'y', 'u', 'f', 'f', 'm', 'f', 'b', 'k', 't', 'm', 'l', 's', 'c', 'z', 't', 'w', 'n', 'a', 't', 'm', 'x', 'p', 'x', 'r', 'u', 'z', 's', 'z', 'i', 'q', 's', 'w', 'o', 'q', 'l', 'q', 'x', 'q', 'd', 'k', 'p', 'a', 'm', 'v', 'p', 's', 'c', 'n', 't', 'o', 'm', 'r', 'v', 'x', 'q', 'a', 'j', 'h', 'y', 'f', 'j', 'g', 'z', 'i', 'x', 'g', 'l', 'z', 'w', 't', 'f', 't', 'v', 'v', 'w', 'z', 'q', 'a', 'u', 't', 'a', 'x', 'i', 'e', 'n', 'b', 'w', 'c', 'y', 'u', 'd', 'x', 'c', 'b', 'n', 'k', 'a', 'o', 's', 'h', 'm', 'l', 'j', 'k', 'r', 'k', 'g', 's', 'c', 'r', 'u', 'n', 'c', 'e', 'o', 'q', 'l', 'n', 'o', 's', 'a', 'b', 'f', 's', 'v', 'y', 'v', 's', 'f', 'j', 'k', 'z', 'u', 'w', 'n', 'd', 't', 'w', 'd', 'j', 'p', 'z', 'k', 'x', 't', 'v', 'q', 'k', 'b', 'm', 'p', 'd', 'v', 'y', 't', 't', 'c', 'j', 'p', 'm', 'q', 'b', 'r', 'f', 'e', 't', 'c', 'n', 'p', 'e', 'n', 'b', 'v', 'i', 'o', 'c', 'x', 'a', 'z', 'l', 'p', 'h', 'k', 'i', 'z', 'x', 'y', 'c', 'u', 'h', 'x', 'a', 'j', 'y', 'h', 'w', 'q', 'u', 'm', 'v', 'u', 'p', 'l', 'z', 'n', 'g', 'r', 'x', 'j', 'r', 'u', 'x', 'u', 'r', 's', 'x', 'a', 'r', 'p', 'f', 'l', 's', 'j', 'q', 'j', 'k', 'l', 'o', 'j', 'i', 's', 'y', 'j', 's', 'o', 'l', 't', 'x', 'f', 'u', 'r', 'k', 'z', 'd', 'm', 'c', 'x', 'u', 'r', 'l', 'n', 'a', 'v', 'n', 'h', 'y', 'c', 't', 'f', 'g', 'm', 'w', 'p', 'e', 'h', 'm', 'v', 'm', 'u', 's', 'v', 'k', 'q', 'l', 'j', 'y', 'c', 'c', 'q', 'k', 'd', 'f', 'e', 'f', 'u', 'm', 'g', 'i', 'w', 't', 'l', 'j', 'w', 'k', 'u', 'a', 'm', 'v', 'o', 'k', 'b', 'a', 'o', 'g', 'a', 's', 'z', 'q', 'b', 'e', 'u', 'm', 'q', 'z', 'u', 'w', 'k', 'g', 'h', 'p', 'q', 'm', 'k', 'y', 'k', 'h', 'k', 'z', 'u', 'x', 'w', 'n', 'k', 'b', 'm', 'o', 'l', 'm', 'g', 'o', 'o', 'r', 'c', 'j', 'v', 'a', 'k', 'k', 'a', 'd', 'g', 'y', 'f', 'p', 'y', 'z', 'y', 'm', 'b', 'z', 't', 'd', 'c', 'c', 'd', 'h', 'c', 'y', 'w', 'k', 'e', 'r', 'u', 'e', 'l', 'h', 'o', 'q', 'r', 'y', 'j', 'w', 'l', 't', 'p', 'q', 'u', 'q', 'f', 'e', 'w', 'z', 'y', 'm', 'n', 'j', 'f', 'd', 'b', 'g', 'h', 'n', 'g', 'k', 'v', 'x', 'v', 'e', 't', 'n', 'e', 'u', 'h', 'i', 'p', 'v', 'd', 'f', 'q', 'd', 'c', 'v', 'r', 'j', 'l', 'l', 'c', 'f', 'v', 'g', 'h', 'v', 'm', 'y', 't', 'j', 'e', 'd', 'o', 'a', 'f', 'j', 'v', 'x', 'y', 'h', 'n', 'y', 't', 'i', 'd', 'h', 'd', 'v', 'r', 'v', 'i', 'o', 't', 'l', 'd', 'h', 'b', 'r', 'r', 'c', 'o', 'q', 's', 'n', 'b', 'n', 'l', 'g', 'n', 'c', 'p', 'c', 'w', 'z', 'l', 'a', 'v', 'l', 'h', 'j', 'h', 'f', 'k', 'a', 'm', 'f', 'm', 'o', 'd', 'v', 'z', 'o', 'i', 'j', 'q', 'f', 's', 's', 'd', 'y', 'l', 'h', 'a', 'd', 'f', 'm', 't', 'f', 'c', 'z', 'v', 'r', 'z', 's', 'd', 'l', 'j', 'g', 'o', 'g', 'k', 'u', 'f', 'f', 'f', 't', 'v', 'g', 'r', 'v']\n",
      "LCS length :  208\n",
      "Running time :  0.5146079063415527\n"
     ]
    }
   ],
   "source": [
    "runtime()"
   ]
  },
  {
   "cell_type": "code",
   "execution_count": 154,
   "metadata": {},
   "outputs": [],
   "source": [
    "average_runtime()"
   ]
  },
  {
   "cell_type": "code",
   "execution_count": 155,
   "metadata": {},
   "outputs": [
    {
     "data": {
      "image/png": "[encoded data removed]",
      "text/plain": [
       "<Figure size 432x288 with 1 Axes>"
      ]
     },
     "metadata": {
      "needs_background": "light"
     },
     "output_type": "display_data"
    }
   ],
   "source": [
    "plotting(X_list, Y_list)"
   ]
  },
  {
   "cell_type": "code",
   "execution_count": 156,
   "metadata": {},
   "outputs": [
    {
     "name": "stdout",
     "output_type": "stream",
     "text": [
      "[45.0, 230.0, 649.5]\n",
      "[0.002987384796142578, 0.05619072914123535, 0.550365130106608]\n"
     ]
    }
   ],
   "source": [
    "print(X_list)\n",
    "print(Y_list)"
   ]
  },
  {
   "cell_type": "code",
   "execution_count": null,
   "metadata": {},
   "outputs": [],
   "source": []
  }
 ],
 "metadata": {
  "kernelspec": {
   "display_name": "Python 3",
   "language": "python",
   "name": "python3"
  },
  "language_info": {
   "codemirror_mode": {
    "name": "ipython",
    "version": 3
   },
   "file_extension": ".py",
   "mimetype": "text/x-python",
   "name": "python",
   "nbconvert_exporter": "python",
   "pygments_lexer": "ipython3",
   "version": "3.8.3"
  }
 },
 "nbformat": 4,
 "nbformat_minor": 4
}
